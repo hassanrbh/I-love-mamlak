{
 "cells": [
  {
   "cell_type": "markdown",
   "metadata": {
    "papermill": {
     "duration": 0.04802,
     "end_time": "2020-10-28T08:29:10.858810",
     "exception": false,
     "start_time": "2020-10-28T08:29:10.810790",
     "status": "completed"
    },
    "tags": []
   },
   "source": [
    "# This is a Machine Hack Competition\n",
    "## House Pricing Prediction Challenge\n",
    "* Now this competion is closed but you can still make submissions if you wish.\n",
    "* Link to Competition-https://www.machinehack.com/hackathons/house_price_prediction_beat_the_benchmark/overview\n",
    "* Dataset for kaggle notebook- https://www.kaggle.com/jassican/house-price-prediction-challenge-machine-hack"
   ]
  },
  {
   "cell_type": "markdown",
   "metadata": {
    "papermill": {
     "duration": 0.044637,
     "end_time": "2020-10-28T08:29:10.947860",
     "exception": false,
     "start_time": "2020-10-28T08:29:10.903223",
     "status": "completed"
    },
    "tags": []
   },
   "source": [
    "### Things That Work\n",
    "1. Features (First extracted city and locality features from address column)\n",
    "    1. SQUARE_FT variable mean,max, min, variance encoded with locality\n",
    "    1. SQUARE_FT variable mean,max, min, variance encoded with City\n",
    "    1. count of unique locality in each city\n",
    "1. K-fold, I have used K as 10 here\n",
    "1. Ensembeling of 3, 10 fold models- Light Gradient Bossting, Extreme Gradient Boosting, Catboost (with large no. of n_estimators(iterations in catboost) and early_stopping_rounds )\n",
    "1. Remove dublicate rows from train data while training and used mean of log target variable in test data which are exactly dublicate from train set.\n",
    "1. Fitting Log of target variable in training and then taking its inverse while submitting. because by default models minimize RMSE and by doing so it will minimize RMSLE, which is exact evaluation metric for this competition."
   ]
  },
  {
   "cell_type": "markdown",
   "metadata": {
    "papermill": {
     "duration": 0.043669,
     "end_time": "2020-10-28T08:29:11.037811",
     "exception": false,
     "start_time": "2020-10-28T08:29:10.994142",
     "status": "completed"
    },
    "tags": []
   },
   "source": [
    "### Just by using above 5 steps you can achieve Rank 7, I myself has achieved rank 9 in this competition."
   ]
  },
  {
   "cell_type": "markdown",
   "metadata": {
    "papermill": {
     "duration": 0.04471,
     "end_time": "2020-10-28T08:29:11.127014",
     "exception": false,
     "start_time": "2020-10-28T08:29:11.082304",
     "status": "completed"
    },
    "tags": []
   },
   "source": [
    "### Things which may work\n",
    "1. You can observe that city and locality turned out to very important variable in this competition, but there are few problem with these variables, same address are given in 2 or 3 different form multiple times, like 'Rajiv Gandhi Nagar,Maharashtra' and 'Rajiv Gandhi Nagar,Mumbai', 'Anand Nagar,Maharashtra'and 'Anand Nagar,Pune'. Correcting them can boost your score (prefer to always have city name instead of state. Maharashtra only come around 5% times in data)\n",
    "1. locality and City variables encoded with square_ft work very well, you can also try group of other variables like locality and POSTED_BY with SQUARE_FT or even grouped of other variable with locality and city variable. \n",
    "1. There is problem also with some variables like SQUARE_FT, it is less than 90 (even less tha 10 for few), you can improve that values(by replacig them to missing or by multipling by a factor of 10 or 100), You may also bin values of BHK_no. as with even higher BHK_NO. values mean price is decreasing. Same way  Longitude and latitude data is not in range of Indian latitude and longitude for some observation, whereas data is only of india. (Indian latitude range 8°4' north to 37°6' north and longitude range 68°7' east to 97°25'). But be careful there may be pattern in data like whenever latitude and longitude are out of range price are less compare to other. Additing to this here Latitudes as given as longitude and vice-versa.\n",
    "1. I have removed only those dublicate columns from train data which are having same output, but there are also few columns( around 100) which have same input but different output(you can find dublicacy by ignoring adress columns also). Additinally I have remove Dublicates just before training. Use them while genrating new features, you can try by removing before genrating new features.\n",
    "1. Genrating few more fetures, and better tuning of all parameters and even some better way of ensembeling or stacking can also help."
   ]
  },
  {
   "cell_type": "markdown",
   "metadata": {
    "papermill": {
     "duration": 0.044205,
     "end_time": "2020-10-28T08:29:11.215701",
     "exception": false,
     "start_time": "2020-10-28T08:29:11.171496",
     "status": "completed"
    },
    "tags": []
   },
   "source": [
    "### Things which not work\n",
    "* After Tuning model parameters oof (out of fold) score improves but but score on leaderboard is decreasing, because tuning is resulting in making all different fold models similar and the benifit which we are getting through ensembeling of multiple fold, we are losing that. ( may be tring with lesser fold while tuning can help)\n",
    "* Added SQUARE_FT variable median encoded with City and locality"
   ]
  },
  {
   "cell_type": "markdown",
   "metadata": {
    "papermill": {
     "duration": 0.0438,
     "end_time": "2020-10-28T08:29:11.304035",
     "exception": false,
     "start_time": "2020-10-28T08:29:11.260235",
     "status": "completed"
    },
    "tags": []
   },
   "source": [
    "### INDEX\n",
    "* [Basic Visulization](#1)\n",
    "* [Feature Engineering](#2)\n",
    "* [Model Fitting](#3)"
   ]
  },
  {
   "cell_type": "code",
   "execution_count": 1,
   "metadata": {
    "_cell_guid": "b1076dfc-b9ad-4769-8c92-a6c4dae69d19",
    "_uuid": "8f2839f25d086af736a60e9eeb907d3b93b6e0e5",
    "execution": {
     "iopub.execute_input": "2020-10-28T08:29:11.408444Z",
     "iopub.status.busy": "2020-10-28T08:29:11.407627Z",
     "iopub.status.idle": "2020-10-28T08:29:12.516019Z",
     "shell.execute_reply": "2020-10-28T08:29:12.515192Z"
    },
    "papermill": {
     "duration": 1.164472,
     "end_time": "2020-10-28T08:29:12.516150",
     "exception": false,
     "start_time": "2020-10-28T08:29:11.351678",
     "status": "completed"
    },
    "tags": []
   },
   "outputs": [],
   "source": [
    "# import Libraries\n",
    "import pandas as pd\n",
    "import numpy as np\n",
    "import matplotlib as pyplot\n",
    "import matplotlib.pyplot as plt\n",
    "import seaborn as sns\n",
    "%matplotlib inline\n",
    "\n",
    "# to see all the comands result in a single kernal \n",
    "from IPython.core.interactiveshell import InteractiveShell\n",
    "InteractiveShell.ast_node_interactivity = \"all\"\n",
    "\n",
    "# to increase no. of rows and column visibility in outputs\n",
    "pd.set_option('display.max_rows', 2000)\n",
    "pd.set_option('display.max_columns', 2000)\n",
    "pd.set_option('display.width', 2000)\n",
    "\n",
    "#To ignore warnings\n",
    "import warnings\n",
    "warnings.simplefilter('ignore')"
   ]
  },
  {
   "cell_type": "code",
   "execution_count": 2,
   "metadata": {
    "execution": {
     "iopub.execute_input": "2020-10-28T08:29:12.615470Z",
     "iopub.status.busy": "2020-10-28T08:29:12.614581Z",
     "iopub.status.idle": "2020-10-28T08:29:12.853536Z",
     "shell.execute_reply": "2020-10-28T08:29:12.852720Z"
    },
    "papermill": {
     "duration": 0.291393,
     "end_time": "2020-10-28T08:29:12.853671",
     "exception": false,
     "start_time": "2020-10-28T08:29:12.562278",
     "status": "completed"
    },
    "tags": []
   },
   "outputs": [],
   "source": [
    "#Import data\n",
    "train = pd.read_csv(r'../input/house-price-prediction-challenge-machine-hack/Train.csv')\n",
    "test = pd.read_csv(r'../input/house-price-prediction-challenge-machine-hack/Test.csv')\n",
    "sample = pd.read_csv(r'../input/house-price-prediction-challenge-machine-hack/sample_submission.csv')"
   ]
  },
  {
   "cell_type": "markdown",
   "metadata": {
    "papermill": {
     "duration": 0.044152,
     "end_time": "2020-10-28T08:29:12.942428",
     "exception": false,
     "start_time": "2020-10-28T08:29:12.898276",
     "status": "completed"
    },
    "tags": []
   },
   "source": [
    " **Basic Visulization**"
   ]
  },
  {
   "cell_type": "code",
   "execution_count": 3,
   "metadata": {
    "execution": {
     "iopub.execute_input": "2020-10-28T08:29:13.051295Z",
     "iopub.status.busy": "2020-10-28T08:29:13.041681Z",
     "iopub.status.idle": "2020-10-28T08:29:13.081751Z",
     "shell.execute_reply": "2020-10-28T08:29:13.081099Z"
    },
    "papermill": {
     "duration": 0.093889,
     "end_time": "2020-10-28T08:29:13.081910",
     "exception": false,
     "start_time": "2020-10-28T08:29:12.988021",
     "status": "completed"
    },
    "tags": []
   },
   "outputs": [
    {
     "data": {
      "text/html": [
       "<div>\n",
       "<style scoped>\n",
       "    .dataframe tbody tr th:only-of-type {\n",
       "        vertical-align: middle;\n",
       "    }\n",
       "\n",
       "    .dataframe tbody tr th {\n",
       "        vertical-align: top;\n",
       "    }\n",
       "\n",
       "    .dataframe thead th {\n",
       "        text-align: right;\n",
       "    }\n",
       "</style>\n",
       "<table border=\"1\" class=\"dataframe\">\n",
       "  <thead>\n",
       "    <tr style=\"text-align: right;\">\n",
       "      <th></th>\n",
       "      <th>POSTED_BY</th>\n",
       "      <th>UNDER_CONSTRUCTION</th>\n",
       "      <th>RERA</th>\n",
       "      <th>BHK_NO.</th>\n",
       "      <th>BHK_OR_RK</th>\n",
       "      <th>SQUARE_FT</th>\n",
       "      <th>READY_TO_MOVE</th>\n",
       "      <th>RESALE</th>\n",
       "      <th>ADDRESS</th>\n",
       "      <th>LONGITUDE</th>\n",
       "      <th>LATITUDE</th>\n",
       "      <th>TARGET(PRICE_IN_LACS)</th>\n",
       "    </tr>\n",
       "  </thead>\n",
       "  <tbody>\n",
       "    <tr>\n",
       "      <th>0</th>\n",
       "      <td>Owner</td>\n",
       "      <td>0</td>\n",
       "      <td>0</td>\n",
       "      <td>2</td>\n",
       "      <td>BHK</td>\n",
       "      <td>1300.236407</td>\n",
       "      <td>1</td>\n",
       "      <td>1</td>\n",
       "      <td>Ksfc Layout,Bangalore</td>\n",
       "      <td>12.969910</td>\n",
       "      <td>77.597960</td>\n",
       "      <td>55.0</td>\n",
       "    </tr>\n",
       "    <tr>\n",
       "      <th>1</th>\n",
       "      <td>Dealer</td>\n",
       "      <td>0</td>\n",
       "      <td>0</td>\n",
       "      <td>2</td>\n",
       "      <td>BHK</td>\n",
       "      <td>1275.000000</td>\n",
       "      <td>1</td>\n",
       "      <td>1</td>\n",
       "      <td>Vishweshwara Nagar,Mysore</td>\n",
       "      <td>12.274538</td>\n",
       "      <td>76.644605</td>\n",
       "      <td>51.0</td>\n",
       "    </tr>\n",
       "    <tr>\n",
       "      <th>2</th>\n",
       "      <td>Owner</td>\n",
       "      <td>0</td>\n",
       "      <td>0</td>\n",
       "      <td>2</td>\n",
       "      <td>BHK</td>\n",
       "      <td>933.159722</td>\n",
       "      <td>1</td>\n",
       "      <td>1</td>\n",
       "      <td>Jigani,Bangalore</td>\n",
       "      <td>12.778033</td>\n",
       "      <td>77.632191</td>\n",
       "      <td>43.0</td>\n",
       "    </tr>\n",
       "    <tr>\n",
       "      <th>3</th>\n",
       "      <td>Owner</td>\n",
       "      <td>0</td>\n",
       "      <td>1</td>\n",
       "      <td>2</td>\n",
       "      <td>BHK</td>\n",
       "      <td>929.921143</td>\n",
       "      <td>1</td>\n",
       "      <td>1</td>\n",
       "      <td>Sector-1 Vaishali,Ghaziabad</td>\n",
       "      <td>28.642300</td>\n",
       "      <td>77.344500</td>\n",
       "      <td>62.5</td>\n",
       "    </tr>\n",
       "    <tr>\n",
       "      <th>4</th>\n",
       "      <td>Dealer</td>\n",
       "      <td>1</td>\n",
       "      <td>0</td>\n",
       "      <td>2</td>\n",
       "      <td>BHK</td>\n",
       "      <td>999.009247</td>\n",
       "      <td>0</td>\n",
       "      <td>1</td>\n",
       "      <td>New Town,Kolkata</td>\n",
       "      <td>22.592200</td>\n",
       "      <td>88.484911</td>\n",
       "      <td>60.5</td>\n",
       "    </tr>\n",
       "  </tbody>\n",
       "</table>\n",
       "</div>"
      ],
      "text/plain": [
       "  POSTED_BY  UNDER_CONSTRUCTION  RERA  BHK_NO. BHK_OR_RK    SQUARE_FT  READY_TO_MOVE  RESALE                      ADDRESS  LONGITUDE   LATITUDE  TARGET(PRICE_IN_LACS)\n",
       "0     Owner                   0     0        2       BHK  1300.236407              1       1        Ksfc Layout,Bangalore  12.969910  77.597960                   55.0\n",
       "1    Dealer                   0     0        2       BHK  1275.000000              1       1    Vishweshwara Nagar,Mysore  12.274538  76.644605                   51.0\n",
       "2     Owner                   0     0        2       BHK   933.159722              1       1             Jigani,Bangalore  12.778033  77.632191                   43.0\n",
       "3     Owner                   0     1        2       BHK   929.921143              1       1  Sector-1 Vaishali,Ghaziabad  28.642300  77.344500                   62.5\n",
       "4    Dealer                   1     0        2       BHK   999.009247              0       1             New Town,Kolkata  22.592200  88.484911                   60.5"
      ]
     },
     "execution_count": 3,
     "metadata": {},
     "output_type": "execute_result"
    },
    {
     "data": {
      "text/html": [
       "<div>\n",
       "<style scoped>\n",
       "    .dataframe tbody tr th:only-of-type {\n",
       "        vertical-align: middle;\n",
       "    }\n",
       "\n",
       "    .dataframe tbody tr th {\n",
       "        vertical-align: top;\n",
       "    }\n",
       "\n",
       "    .dataframe thead th {\n",
       "        text-align: right;\n",
       "    }\n",
       "</style>\n",
       "<table border=\"1\" class=\"dataframe\">\n",
       "  <thead>\n",
       "    <tr style=\"text-align: right;\">\n",
       "      <th></th>\n",
       "      <th>POSTED_BY</th>\n",
       "      <th>UNDER_CONSTRUCTION</th>\n",
       "      <th>RERA</th>\n",
       "      <th>BHK_NO.</th>\n",
       "      <th>BHK_OR_RK</th>\n",
       "      <th>SQUARE_FT</th>\n",
       "      <th>READY_TO_MOVE</th>\n",
       "      <th>RESALE</th>\n",
       "      <th>ADDRESS</th>\n",
       "      <th>LONGITUDE</th>\n",
       "      <th>LATITUDE</th>\n",
       "    </tr>\n",
       "  </thead>\n",
       "  <tbody>\n",
       "    <tr>\n",
       "      <th>0</th>\n",
       "      <td>Owner</td>\n",
       "      <td>0</td>\n",
       "      <td>0</td>\n",
       "      <td>1</td>\n",
       "      <td>BHK</td>\n",
       "      <td>545.171340</td>\n",
       "      <td>1</td>\n",
       "      <td>1</td>\n",
       "      <td>Kamrej,Surat</td>\n",
       "      <td>21.262000</td>\n",
       "      <td>73.047700</td>\n",
       "    </tr>\n",
       "    <tr>\n",
       "      <th>1</th>\n",
       "      <td>Dealer</td>\n",
       "      <td>1</td>\n",
       "      <td>1</td>\n",
       "      <td>2</td>\n",
       "      <td>BHK</td>\n",
       "      <td>800.000000</td>\n",
       "      <td>0</td>\n",
       "      <td>0</td>\n",
       "      <td>Panvel,Lalitpur</td>\n",
       "      <td>18.966114</td>\n",
       "      <td>73.148278</td>\n",
       "    </tr>\n",
       "    <tr>\n",
       "      <th>2</th>\n",
       "      <td>Dealer</td>\n",
       "      <td>0</td>\n",
       "      <td>0</td>\n",
       "      <td>2</td>\n",
       "      <td>BHK</td>\n",
       "      <td>1257.096513</td>\n",
       "      <td>1</td>\n",
       "      <td>1</td>\n",
       "      <td>New Town,Kolkata</td>\n",
       "      <td>22.592200</td>\n",
       "      <td>88.484911</td>\n",
       "    </tr>\n",
       "    <tr>\n",
       "      <th>3</th>\n",
       "      <td>Dealer</td>\n",
       "      <td>0</td>\n",
       "      <td>0</td>\n",
       "      <td>3</td>\n",
       "      <td>BHK</td>\n",
       "      <td>1400.329489</td>\n",
       "      <td>1</td>\n",
       "      <td>1</td>\n",
       "      <td>Kalwar Road,Jaipur</td>\n",
       "      <td>26.988300</td>\n",
       "      <td>75.584600</td>\n",
       "    </tr>\n",
       "    <tr>\n",
       "      <th>4</th>\n",
       "      <td>Owner</td>\n",
       "      <td>0</td>\n",
       "      <td>0</td>\n",
       "      <td>1</td>\n",
       "      <td>BHK</td>\n",
       "      <td>430.477830</td>\n",
       "      <td>1</td>\n",
       "      <td>1</td>\n",
       "      <td>Mai Mandir,Nadiad</td>\n",
       "      <td>22.700000</td>\n",
       "      <td>72.870000</td>\n",
       "    </tr>\n",
       "  </tbody>\n",
       "</table>\n",
       "</div>"
      ],
      "text/plain": [
       "  POSTED_BY  UNDER_CONSTRUCTION  RERA  BHK_NO. BHK_OR_RK    SQUARE_FT  READY_TO_MOVE  RESALE             ADDRESS  LONGITUDE   LATITUDE\n",
       "0     Owner                   0     0        1       BHK   545.171340              1       1        Kamrej,Surat  21.262000  73.047700\n",
       "1    Dealer                   1     1        2       BHK   800.000000              0       0     Panvel,Lalitpur  18.966114  73.148278\n",
       "2    Dealer                   0     0        2       BHK  1257.096513              1       1    New Town,Kolkata  22.592200  88.484911\n",
       "3    Dealer                   0     0        3       BHK  1400.329489              1       1  Kalwar Road,Jaipur  26.988300  75.584600\n",
       "4     Owner                   0     0        1       BHK   430.477830              1       1   Mai Mandir,Nadiad  22.700000  72.870000"
      ]
     },
     "execution_count": 3,
     "metadata": {},
     "output_type": "execute_result"
    },
    {
     "data": {
      "text/plain": [
       "((29451, 12), (68720, 11), (68720, 1))"
      ]
     },
     "execution_count": 3,
     "metadata": {},
     "output_type": "execute_result"
    }
   ],
   "source": [
    "# Having a look at data and its shape \n",
    "train.head()\n",
    "test.head()\n",
    "train.shape ,test.shape ,sample.shape"
   ]
  },
  {
   "cell_type": "code",
   "execution_count": 4,
   "metadata": {
    "execution": {
     "iopub.execute_input": "2020-10-28T08:29:13.192784Z",
     "iopub.status.busy": "2020-10-28T08:29:13.191163Z",
     "iopub.status.idle": "2020-10-28T08:29:13.404104Z",
     "shell.execute_reply": "2020-10-28T08:29:13.403315Z"
    },
    "papermill": {
     "duration": 0.275094,
     "end_time": "2020-10-28T08:29:13.404233",
     "exception": false,
     "start_time": "2020-10-28T08:29:13.129139",
     "status": "completed"
    },
    "tags": []
   },
   "outputs": [
    {
     "data": {
      "text/plain": [
       "((537, 12), (401, 12), (2470, 11), (4672, 12))"
      ]
     },
     "execution_count": 4,
     "metadata": {},
     "output_type": "execute_result"
    }
   ],
   "source": [
    "# Dublicacy Analyses\n",
    "duplicate_input_train = train[train.duplicated(subset=['POSTED_BY', 'UNDER_CONSTRUCTION', 'RERA', 'BHK_NO.', 'BHK_OR_RK', 'SQUARE_FT', 'READY_TO_MOVE', 'RESALE', 'ADDRESS', 'LONGITUDE', 'LATITUDE'])]\n",
    "duplicate_Rows_train = train[train.duplicated()]\n",
    "duplicate_Rows_test = test[test.duplicated()]\n",
    "df=pd.concat([train,test],ignore_index=True )\n",
    "duplicate_input_DF = df[df.duplicated(subset=['POSTED_BY', 'UNDER_CONSTRUCTION', 'RERA', 'BHK_NO.', 'BHK_OR_RK', 'SQUARE_FT', 'READY_TO_MOVE', 'RESALE', 'ADDRESS', 'LONGITUDE', 'LATITUDE'])]\n",
    "duplicate_input_train.shape ,duplicate_Rows_train.shape ,duplicate_Rows_test.shape ,duplicate_input_DF.shape "
   ]
  },
  {
   "cell_type": "code",
   "execution_count": 5,
   "metadata": {
    "execution": {
     "iopub.execute_input": "2020-10-28T08:29:13.515586Z",
     "iopub.status.busy": "2020-10-28T08:29:13.514419Z",
     "iopub.status.idle": "2020-10-28T08:29:13.559202Z",
     "shell.execute_reply": "2020-10-28T08:29:13.558339Z"
    },
    "papermill": {
     "duration": 0.107697,
     "end_time": "2020-10-28T08:29:13.559393",
     "exception": false,
     "start_time": "2020-10-28T08:29:13.451696",
     "status": "completed"
    },
    "tags": []
   },
   "outputs": [
    {
     "name": "stdout",
     "output_type": "stream",
     "text": [
      "<class 'pandas.core.frame.DataFrame'>\n",
      "RangeIndex: 29451 entries, 0 to 29450\n",
      "Data columns (total 12 columns):\n",
      " #   Column                 Non-Null Count  Dtype  \n",
      "---  ------                 --------------  -----  \n",
      " 0   POSTED_BY              29451 non-null  object \n",
      " 1   UNDER_CONSTRUCTION     29451 non-null  int64  \n",
      " 2   RERA                   29451 non-null  int64  \n",
      " 3   BHK_NO.                29451 non-null  int64  \n",
      " 4   BHK_OR_RK              29451 non-null  object \n",
      " 5   SQUARE_FT              29451 non-null  float64\n",
      " 6   READY_TO_MOVE          29451 non-null  int64  \n",
      " 7   RESALE                 29451 non-null  int64  \n",
      " 8   ADDRESS                29451 non-null  object \n",
      " 9   LONGITUDE              29451 non-null  float64\n",
      " 10  LATITUDE               29451 non-null  float64\n",
      " 11  TARGET(PRICE_IN_LACS)  29451 non-null  float64\n",
      "dtypes: float64(4), int64(5), object(3)\n",
      "memory usage: 2.7+ MB\n",
      "<class 'pandas.core.frame.DataFrame'>\n",
      "RangeIndex: 68720 entries, 0 to 68719\n",
      "Data columns (total 11 columns):\n",
      " #   Column              Non-Null Count  Dtype  \n",
      "---  ------              --------------  -----  \n",
      " 0   POSTED_BY           68720 non-null  object \n",
      " 1   UNDER_CONSTRUCTION  68720 non-null  int64  \n",
      " 2   RERA                68720 non-null  int64  \n",
      " 3   BHK_NO.             68720 non-null  int64  \n",
      " 4   BHK_OR_RK           68720 non-null  object \n",
      " 5   SQUARE_FT           68720 non-null  float64\n",
      " 6   READY_TO_MOVE       68720 non-null  int64  \n",
      " 7   RESALE              68720 non-null  int64  \n",
      " 8   ADDRESS             68720 non-null  object \n",
      " 9   LONGITUDE           68720 non-null  float64\n",
      " 10  LATITUDE            68720 non-null  float64\n",
      "dtypes: float64(3), int64(5), object(3)\n",
      "memory usage: 5.8+ MB\n"
     ]
    }
   ],
   "source": [
    "# to check type of columns and identify whether missing values exist or not\n",
    "train.info()\n",
    "test.info()"
   ]
  },
  {
   "cell_type": "code",
   "execution_count": 6,
   "metadata": {
    "execution": {
     "iopub.execute_input": "2020-10-28T08:29:13.668963Z",
     "iopub.status.busy": "2020-10-28T08:29:13.668175Z",
     "iopub.status.idle": "2020-10-28T08:29:13.925186Z",
     "shell.execute_reply": "2020-10-28T08:29:13.924445Z"
    },
    "papermill": {
     "duration": 0.317277,
     "end_time": "2020-10-28T08:29:13.925315",
     "exception": false,
     "start_time": "2020-10-28T08:29:13.608038",
     "status": "completed"
    },
    "tags": []
   },
   "outputs": [
    {
     "data": {
      "text/plain": [
       "(68720, 16)"
      ]
     },
     "execution_count": 6,
     "metadata": {},
     "output_type": "execute_result"
    },
    {
     "data": {
      "text/plain": [
       "66434"
      ]
     },
     "execution_count": 6,
     "metadata": {},
     "output_type": "execute_result"
    }
   ],
   "source": [
    "# Genrate a new column substitude it with mean of log of target column, we will use this before submission\n",
    "train['is_train']=1\n",
    "test['is_train']=0\n",
    "train['TARGET_log']=np.log1p(train['TARGET(PRICE_IN_LACS)'])\n",
    "df=pd.concat([train,test],ignore_index=True)\n",
    "df['T1_log_dub']=df.groupby(['POSTED_BY', 'UNDER_CONSTRUCTION', 'RERA','BHK_NO.', 'BHK_OR_RK', 'SQUARE_FT', 'READY_TO_MOVE', 'RESALE', 'ADDRESS', 'LONGITUDE', 'LATITUDE'])['TARGET_log'].transform('mean')\n",
    "df['t1_dub']=np.exp(df['T1_log_dub'])-1\n",
    "train=df[df['is_train']==1]\n",
    "test=df[df['is_train']==0]\n",
    "test.shape\n",
    "test.t1_dub.isna().sum()"
   ]
  },
  {
   "cell_type": "markdown",
   "metadata": {
    "papermill": {
     "duration": 0.050537,
     "end_time": "2020-10-28T08:29:14.024492",
     "exception": false,
     "start_time": "2020-10-28T08:29:13.973955",
     "status": "completed"
    },
    "tags": []
   },
   "source": [
    "2286 test data values are filled"
   ]
  },
  {
   "cell_type": "code",
   "execution_count": 7,
   "metadata": {
    "execution": {
     "iopub.execute_input": "2020-10-28T08:29:14.129408Z",
     "iopub.status.busy": "2020-10-28T08:29:14.128187Z",
     "iopub.status.idle": "2020-10-28T08:29:14.199319Z",
     "shell.execute_reply": "2020-10-28T08:29:14.198642Z"
    },
    "papermill": {
     "duration": 0.126089,
     "end_time": "2020-10-28T08:29:14.199441",
     "exception": false,
     "start_time": "2020-10-28T08:29:14.073352",
     "status": "completed"
    },
    "tags": []
   },
   "outputs": [
    {
     "data": {
      "text/plain": [
       "(1849, 16)"
      ]
     },
     "execution_count": 7,
     "metadata": {},
     "output_type": "execute_result"
    }
   ],
   "source": [
    "t2=test[test['t1_dub'].isna() == True]\n",
    "t2[t2.duplicated()].shape"
   ]
  },
  {
   "cell_type": "markdown",
   "metadata": {
    "papermill": {
     "duration": 0.049127,
     "end_time": "2020-10-28T08:29:14.298406",
     "exception": false,
     "start_time": "2020-10-28T08:29:14.249279",
     "status": "completed"
    },
    "tags": []
   },
   "source": [
    "But still test data has lot of missing values"
   ]
  },
  {
   "cell_type": "code",
   "execution_count": 8,
   "metadata": {
    "execution": {
     "iopub.execute_input": "2020-10-28T08:29:14.431905Z",
     "iopub.status.busy": "2020-10-28T08:29:14.427189Z",
     "iopub.status.idle": "2020-10-28T08:29:14.565843Z",
     "shell.execute_reply": "2020-10-28T08:29:14.565070Z"
    },
    "papermill": {
     "duration": 0.21839,
     "end_time": "2020-10-28T08:29:14.565991",
     "exception": false,
     "start_time": "2020-10-28T08:29:14.347601",
     "status": "completed"
    },
    "tags": []
   },
   "outputs": [],
   "source": [
    "#Conerting categorical variable to numeric\n",
    "train['BHK_OR_RK']=train['BHK_OR_RK'].replace({'BHK':0,'RK':1})\n",
    "train['POSTED_BY']=train['POSTED_BY'].replace({'Owner':0,'Dealer':1,'Builder':2})\n",
    "test['BHK_OR_RK']=test['BHK_OR_RK'].replace({'BHK':0,'RK':1})\n",
    "test['POSTED_BY']=test['POSTED_BY'].replace({'Owner':0,'Dealer':1,'Builder':2})"
   ]
  },
  {
   "cell_type": "code",
   "execution_count": 9,
   "metadata": {
    "execution": {
     "iopub.execute_input": "2020-10-28T08:29:14.671990Z",
     "iopub.status.busy": "2020-10-28T08:29:14.671181Z",
     "iopub.status.idle": "2020-10-28T08:29:15.600513Z",
     "shell.execute_reply": "2020-10-28T08:29:15.599895Z"
    },
    "papermill": {
     "duration": 0.985179,
     "end_time": "2020-10-28T08:29:15.600633",
     "exception": false,
     "start_time": "2020-10-28T08:29:14.615454",
     "status": "completed"
    },
    "tags": []
   },
   "outputs": [
    {
     "data": {
      "text/plain": [
       "<matplotlib.axes._subplots.AxesSubplot at 0x7f7967f89790>"
      ]
     },
     "execution_count": 9,
     "metadata": {},
     "output_type": "execute_result"
    },
    {
     "data": {
      "image/png": "[encoded data removed]",
      "text/plain": [
       "<Figure size 432x288 with 1 Axes>"
      ]
     },
     "metadata": {
      "needs_background": "light"
     },
     "output_type": "display_data"
    }
   ],
   "source": [
    "# found out that there is no. missing value and only one address as object type variable\n",
    "# Target varibale distribution \n",
    "train['TARGET(PRICE_IN_LACS)'].plot(kind = 'density', title = 'Price Distribution')"
   ]
  },
  {
   "cell_type": "code",
   "execution_count": 10,
   "metadata": {
    "execution": {
     "iopub.execute_input": "2020-10-28T08:29:15.716629Z",
     "iopub.status.busy": "2020-10-28T08:29:15.715470Z",
     "iopub.status.idle": "2020-10-28T08:29:16.671927Z",
     "shell.execute_reply": "2020-10-28T08:29:16.671148Z"
    },
    "papermill": {
     "duration": 1.019878,
     "end_time": "2020-10-28T08:29:16.672057",
     "exception": false,
     "start_time": "2020-10-28T08:29:15.652179",
     "status": "completed"
    },
    "tags": []
   },
   "outputs": [
    {
     "data": {
      "text/plain": [
       "<matplotlib.axes._subplots.AxesSubplot at 0x7f796c3e2e10>"
      ]
     },
     "execution_count": 10,
     "metadata": {},
     "output_type": "execute_result"
    },
    {
     "data": {
      "image/png": "[encoded data removed]",
      "text/plain": [
       "<Figure size 432x288 with 1 Axes>"
      ]
     },
     "metadata": {
      "needs_background": "light"
     },
     "output_type": "display_data"
    }
   ],
   "source": [
    "# Transforming target varible(log transformation), because target is to optimize Root mean square log error\n",
    "# and checking log transformed varibale distribution\n",
    "#train['TARGET_log']=np.log1p(train['TARGET(PRICE_IN_LACS)'])\n",
    "train['TARGET_log'].plot(kind = 'density', title = 'log of Price Distribution')"
   ]
  },
  {
   "cell_type": "code",
   "execution_count": 11,
   "metadata": {
    "execution": {
     "iopub.execute_input": "2020-10-28T08:29:16.793187Z",
     "iopub.status.busy": "2020-10-28T08:29:16.787813Z",
     "iopub.status.idle": "2020-10-28T08:29:17.304696Z",
     "shell.execute_reply": "2020-10-28T08:29:17.304068Z"
    },
    "papermill": {
     "duration": 0.579814,
     "end_time": "2020-10-28T08:29:17.304830",
     "exception": false,
     "start_time": "2020-10-28T08:29:16.725016",
     "status": "completed"
    },
    "tags": []
   },
   "outputs": [
    {
     "data": {
      "image/png": "[encoded data removed]",
      "text/plain": [
       "<Figure size 1728x720 with 6 Axes>"
      ]
     },
     "metadata": {},
     "output_type": "display_data"
    }
   ],
   "source": [
    "# Analysing distribution in Categorical varibales \n",
    "cat_cols = ['POSTED_BY', 'UNDER_CONSTRUCTION', 'RERA', 'BHK_NO.', 'BHK_OR_RK', 'RESALE']\n",
    "fig, axes = plt.subplots(1,6, figsize=(24, 10))\n",
    "\n",
    "for i, c in enumerate(['POSTED_BY', 'UNDER_CONSTRUCTION', 'RERA', 'BHK_NO.', 'BHK_OR_RK', 'RESALE']):\n",
    "    _ = train[c].value_counts()[::-1].plot(kind = 'pie', ax=axes[i], title=c, autopct='%.0f', fontsize=18)\n",
    "    _ = axes[i].set_ylabel('')\n",
    "    \n",
    "_ = plt.tight_layout()"
   ]
  },
  {
   "cell_type": "markdown",
   "metadata": {
    "papermill": {
     "duration": 0.053871,
     "end_time": "2020-10-28T08:29:17.413472",
     "exception": false,
     "start_time": "2020-10-28T08:29:17.359601",
     "status": "completed"
    },
    "tags": []
   },
   "source": [
    "* we found out that 99% of houses are either 1,2,3,or 4 BHK \n",
    "* almost all the houses are BHK "
   ]
  },
  {
   "cell_type": "code",
   "execution_count": 12,
   "metadata": {
    "execution": {
     "iopub.execute_input": "2020-10-28T08:29:17.527722Z",
     "iopub.status.busy": "2020-10-28T08:29:17.526921Z",
     "iopub.status.idle": "2020-10-28T08:29:17.529256Z",
     "shell.execute_reply": "2020-10-28T08:29:17.529778Z"
    },
    "papermill": {
     "duration": 0.061895,
     "end_time": "2020-10-28T08:29:17.529951",
     "exception": false,
     "start_time": "2020-10-28T08:29:17.468056",
     "status": "completed"
    },
    "tags": []
   },
   "outputs": [],
   "source": [
    "\n",
    "# to get exact values of distribution \n",
    "# cat_col=['POSTED_BY', 'UNDER_CONSTRUCTION', 'RERA', 'BHK_NO.', 'BHK_OR_RK', 'RESALE']\n",
    "# for col in cat_col:\n",
    "#  train[col].value_counts()/len(train)"
   ]
  },
  {
   "cell_type": "code",
   "execution_count": 13,
   "metadata": {
    "execution": {
     "iopub.execute_input": "2020-10-28T08:29:17.647440Z",
     "iopub.status.busy": "2020-10-28T08:29:17.646689Z",
     "iopub.status.idle": "2020-10-28T08:29:18.736436Z",
     "shell.execute_reply": "2020-10-28T08:29:18.735746Z"
    },
    "papermill": {
     "duration": 1.150948,
     "end_time": "2020-10-28T08:29:18.736614",
     "exception": false,
     "start_time": "2020-10-28T08:29:17.585666",
     "status": "completed"
    },
    "tags": []
   },
   "outputs": [
    {
     "data": {
      "text/plain": [
       "<seaborn.axisgrid.JointGrid at 0x7f796c351810>"
      ]
     },
     "execution_count": 13,
     "metadata": {},
     "output_type": "execute_result"
    },
    {
     "data": {
      "image/png": "[encoded data removed]",
      "text/plain": [
       "<Figure size 432x432 with 3 Axes>"
      ]
     },
     "metadata": {
      "needs_background": "light"
     },
     "output_type": "display_data"
    }
   ],
   "source": [
    "sns.jointplot(x=np.log1p(train['SQUARE_FT']), y=train['TARGET_log'])"
   ]
  },
  {
   "cell_type": "markdown",
   "metadata": {
    "papermill": {
     "duration": 0.056191,
     "end_time": "2020-10-28T08:29:18.849055",
     "exception": false,
     "start_time": "2020-10-28T08:29:18.792864",
     "status": "completed"
    },
    "tags": []
   },
   "source": [
    "find out that there are few houses with very less value of SQUARE_FT(which are ven not possible)"
   ]
  },
  {
   "cell_type": "code",
   "execution_count": 14,
   "metadata": {
    "execution": {
     "iopub.execute_input": "2020-10-28T08:29:18.978302Z",
     "iopub.status.busy": "2020-10-28T08:29:18.977440Z",
     "iopub.status.idle": "2020-10-28T08:29:21.172694Z",
     "shell.execute_reply": "2020-10-28T08:29:21.171958Z"
    },
    "papermill": {
     "duration": 2.267654,
     "end_time": "2020-10-28T08:29:21.172897",
     "exception": false,
     "start_time": "2020-10-28T08:29:18.905243",
     "status": "completed"
    },
    "tags": []
   },
   "outputs": [
    {
     "data": {
      "text/plain": [
       "<seaborn.axisgrid.JointGrid at 0x7f7964c3c7d0>"
      ]
     },
     "execution_count": 14,
     "metadata": {},
     "output_type": "execute_result"
    },
    {
     "data": {
      "image/png": "[encoded data removed]",
      "text/plain": [
       "<Figure size 432x432 with 3 Axes>"
      ]
     },
     "metadata": {
      "needs_background": "light"
     },
     "output_type": "display_data"
    }
   ],
   "source": [
    "sns.jointplot(x=(train['BHK_NO.']), y=train['TARGET_log'],kind='reg')"
   ]
  },
  {
   "cell_type": "code",
   "execution_count": 15,
   "metadata": {
    "execution": {
     "iopub.execute_input": "2020-10-28T08:29:21.297733Z",
     "iopub.status.busy": "2020-10-28T08:29:21.296558Z",
     "iopub.status.idle": "2020-10-28T08:29:21.475820Z",
     "shell.execute_reply": "2020-10-28T08:29:21.474968Z"
    },
    "papermill": {
     "duration": 0.244352,
     "end_time": "2020-10-28T08:29:21.475988",
     "exception": false,
     "start_time": "2020-10-28T08:29:21.231636",
     "status": "completed"
    },
    "tags": []
   },
   "outputs": [
    {
     "data": {
      "text/plain": [
       "<matplotlib.axes._subplots.AxesSubplot at 0x7f79649c3a50>"
      ]
     },
     "execution_count": 15,
     "metadata": {},
     "output_type": "execute_result"
    },
    {
     "data": {
      "image/png": "[encoded data removed]",
      "text/plain": [
       "<Figure size 432x288 with 1 Axes>"
      ]
     },
     "metadata": {
      "needs_background": "light"
     },
     "output_type": "display_data"
    }
   ],
   "source": [
    " train.groupby('BHK_NO.')['TARGET_log'].mean().plot()"
   ]
  },
  {
   "cell_type": "markdown",
   "metadata": {
    "papermill": {
     "duration": 0.059313,
     "end_time": "2020-10-28T08:29:21.594979",
     "exception": false,
     "start_time": "2020-10-28T08:29:21.535666",
     "status": "completed"
    },
    "tags": []
   },
   "source": [
    "We found that as we expect TARGET_log should increase with increasing BHK_NO. values, it is not following with that. One reason for that can also be there are very few houses(~1%) with BHK_NO. greater than 4. so we can also bin BHK_no. column here"
   ]
  },
  {
   "cell_type": "code",
   "execution_count": 16,
   "metadata": {
    "execution": {
     "iopub.execute_input": "2020-10-28T08:29:21.723277Z",
     "iopub.status.busy": "2020-10-28T08:29:21.722495Z",
     "iopub.status.idle": "2020-10-28T08:29:22.055172Z",
     "shell.execute_reply": "2020-10-28T08:29:22.054309Z"
    },
    "papermill": {
     "duration": 0.399386,
     "end_time": "2020-10-28T08:29:22.055340",
     "exception": false,
     "start_time": "2020-10-28T08:29:21.655954",
     "status": "completed"
    },
    "tags": []
   },
   "outputs": [
    {
     "data": {
      "text/plain": [
       "<matplotlib.axes._subplots.AxesSubplot at 0x7f79648c1750>"
      ]
     },
     "execution_count": 16,
     "metadata": {},
     "output_type": "execute_result"
    },
    {
     "data": {
      "image/png": "[encoded data removed]",
      "text/plain": [
       "<Figure size 432x288 with 1 Axes>"
      ]
     },
     "metadata": {
      "needs_background": "light"
     },
     "output_type": "display_data"
    }
   ],
   "source": [
    "sns.violinplot(data=train, x=\"POSTED_BY\", y=\"TARGET_log\", hue=\"RESALE\",split=True, inner=\"quart\", linewidth=1)"
   ]
  },
  {
   "cell_type": "markdown",
   "metadata": {
    "papermill": {
     "duration": 0.078831,
     "end_time": "2020-10-28T08:29:22.210078",
     "exception": false,
     "start_time": "2020-10-28T08:29:22.131247",
     "status": "completed"
    },
    "tags": []
   },
   "source": [
    "Most of very High price houses are which are not for RESALE."
   ]
  },
  {
   "cell_type": "code",
   "execution_count": 17,
   "metadata": {
    "execution": {
     "iopub.execute_input": "2020-10-28T08:29:22.378816Z",
     "iopub.status.busy": "2020-10-28T08:29:22.377204Z",
     "iopub.status.idle": "2020-10-28T08:29:22.621552Z",
     "shell.execute_reply": "2020-10-28T08:29:22.620716Z"
    },
    "papermill": {
     "duration": 0.325913,
     "end_time": "2020-10-28T08:29:22.621719",
     "exception": false,
     "start_time": "2020-10-28T08:29:22.295806",
     "status": "completed"
    },
    "tags": []
   },
   "outputs": [
    {
     "data": {
      "text/plain": [
       "<matplotlib.axes._subplots.AxesSubplot at 0x7f79647fc450>"
      ]
     },
     "execution_count": 17,
     "metadata": {},
     "output_type": "execute_result"
    },
    {
     "data": {
      "image/png": "[encoded data removed]",
      "text/plain": [
       "<Figure size 432x288 with 1 Axes>"
      ]
     },
     "metadata": {
      "needs_background": "light"
     },
     "output_type": "display_data"
    }
   ],
   "source": [
    "sns.scatterplot(x=np.log1p(train['LATITUDE']), y=train['TARGET(PRICE_IN_LACS)'])"
   ]
  },
  {
   "cell_type": "code",
   "execution_count": 18,
   "metadata": {
    "execution": {
     "iopub.execute_input": "2020-10-28T08:29:22.764074Z",
     "iopub.status.busy": "2020-10-28T08:29:22.763313Z",
     "iopub.status.idle": "2020-10-28T08:29:23.011235Z",
     "shell.execute_reply": "2020-10-28T08:29:23.010584Z"
    },
    "papermill": {
     "duration": 0.320186,
     "end_time": "2020-10-28T08:29:23.011371",
     "exception": false,
     "start_time": "2020-10-28T08:29:22.691185",
     "status": "completed"
    },
    "tags": []
   },
   "outputs": [
    {
     "data": {
      "text/plain": [
       "<matplotlib.axes._subplots.AxesSubplot at 0x7f7964869c90>"
      ]
     },
     "execution_count": 18,
     "metadata": {},
     "output_type": "execute_result"
    },
    {
     "data": {
      "image/png": "[encoded data removed]",
      "text/plain": [
       "<Figure size 432x288 with 1 Axes>"
      ]
     },
     "metadata": {
      "needs_background": "light"
     },
     "output_type": "display_data"
    }
   ],
   "source": [
    "sns.scatterplot(x=np.log1p(train['LONGITUDE']), y=train['TARGET(PRICE_IN_LACS)'])"
   ]
  },
  {
   "cell_type": "markdown",
   "metadata": {
    "papermill": {
     "duration": 0.064963,
     "end_time": "2020-10-28T08:29:23.141117",
     "exception": false,
     "start_time": "2020-10-28T08:29:23.076154",
     "status": "completed"
    },
    "tags": []
   },
   "source": [
    "Longitude and latitude values which are out of indian range are giving less values, that why i not try to thing of any method to improve these values, but still can and save our outcomes in a different column, that is the longitude latitude are corrct or not"
   ]
  },
  {
   "cell_type": "code",
   "execution_count": 19,
   "metadata": {
    "execution": {
     "iopub.execute_input": "2020-10-28T08:29:23.280383Z",
     "iopub.status.busy": "2020-10-28T08:29:23.279405Z",
     "iopub.status.idle": "2020-10-28T08:29:24.425939Z",
     "shell.execute_reply": "2020-10-28T08:29:24.426517Z"
    },
    "papermill": {
     "duration": 1.220084,
     "end_time": "2020-10-28T08:29:24.426666",
     "exception": false,
     "start_time": "2020-10-28T08:29:23.206582",
     "status": "completed"
    },
    "tags": []
   },
   "outputs": [
    {
     "data": {
      "text/plain": [
       "<Figure size 1080x576 with 0 Axes>"
      ]
     },
     "execution_count": 19,
     "metadata": {},
     "output_type": "execute_result"
    },
    {
     "data": {
      "text/plain": [
       "<matplotlib.axes._subplots.AxesSubplot at 0x7f79647fc990>"
      ]
     },
     "execution_count": 19,
     "metadata": {},
     "output_type": "execute_result"
    },
    {
     "data": {
      "image/png": "[encoded data removed]",
      "text/plain": [
       "<Figure size 1080x576 with 2 Axes>"
      ]
     },
     "metadata": {
      "needs_background": "light"
     },
     "output_type": "display_data"
    }
   ],
   "source": [
    "# Checking correlation\n",
    "plt.figure(figsize=(15, 8))\n",
    "sns.heatmap(train.corr(),annot=True)"
   ]
  },
  {
   "cell_type": "markdown",
   "metadata": {
    "papermill": {
     "duration": 0.068972,
     "end_time": "2020-10-28T08:29:24.566315",
     "exception": false,
     "start_time": "2020-10-28T08:29:24.497343",
     "status": "completed"
    },
    "tags": []
   },
   "source": [
    "READY_TO_MOVE and UNDER_CONSTRUCTION have correlation -1 so both giving same information, we can remove one of variable "
   ]
  },
  {
   "cell_type": "markdown",
   "metadata": {
    "papermill": {
     "duration": 0.06929,
     "end_time": "2020-10-28T08:29:24.705376",
     "exception": false,
     "start_time": "2020-10-28T08:29:24.636086",
     "status": "completed"
    },
    "tags": []
   },
   "source": [
    "# Feature Engineering"
   ]
  },
  {
   "cell_type": "code",
   "execution_count": 20,
   "metadata": {
    "execution": {
     "iopub.execute_input": "2020-10-28T08:29:24.851521Z",
     "iopub.status.busy": "2020-10-28T08:29:24.850386Z",
     "iopub.status.idle": "2020-10-28T08:29:24.856440Z",
     "shell.execute_reply": "2020-10-28T08:29:24.855703Z"
    },
    "papermill": {
     "duration": 0.081773,
     "end_time": "2020-10-28T08:29:24.856567",
     "exception": false,
     "start_time": "2020-10-28T08:29:24.774794",
     "status": "completed"
    },
    "tags": []
   },
   "outputs": [],
   "source": [
    "train['sq_per_room']=train['SQUARE_FT']/train['BHK_NO.']\n",
    "test['sq_per_room']=test['SQUARE_FT']/test['BHK_NO.']"
   ]
  },
  {
   "cell_type": "code",
   "execution_count": 21,
   "metadata": {
    "execution": {
     "iopub.execute_input": "2020-10-28T08:29:25.018328Z",
     "iopub.status.busy": "2020-10-28T08:29:25.008407Z",
     "iopub.status.idle": "2020-10-28T08:29:25.662267Z",
     "shell.execute_reply": "2020-10-28T08:29:25.661468Z"
    },
    "papermill": {
     "duration": 0.736297,
     "end_time": "2020-10-28T08:29:25.662395",
     "exception": false,
     "start_time": "2020-10-28T08:29:24.926098",
     "status": "completed"
    },
    "tags": []
   },
   "outputs": [],
   "source": [
    "# Extracting name of city and locality of house\n",
    "train['City']=train['ADDRESS'].str.split(',').str.get(-1)\n",
    "train['locality']=train['ADDRESS'].str.split(',').str.get(-2)\n",
    "test['City']=test['ADDRESS'].str.split(',').str.get(-1)\n",
    "test['locality']=test['ADDRESS'].str.split(',').str.get(-2)"
   ]
  },
  {
   "cell_type": "code",
   "execution_count": 22,
   "metadata": {
    "execution": {
     "iopub.execute_input": "2020-10-28T08:29:25.810468Z",
     "iopub.status.busy": "2020-10-28T08:29:25.809475Z",
     "iopub.status.idle": "2020-10-28T08:29:25.812497Z",
     "shell.execute_reply": "2020-10-28T08:29:25.811721Z"
    },
    "papermill": {
     "duration": 0.077392,
     "end_time": "2020-10-28T08:29:25.812627",
     "exception": false,
     "start_time": "2020-10-28T08:29:25.735235",
     "status": "completed"
    },
    "tags": []
   },
   "outputs": [],
   "source": [
    "# train['City'].value_counts()/len(train)\n",
    "# Maharashtra is not a city but coming 5% times, we can replace that for furthur improvement, can use above command to see"
   ]
  },
  {
   "cell_type": "code",
   "execution_count": 23,
   "metadata": {
    "execution": {
     "iopub.execute_input": "2020-10-28T08:29:25.981695Z",
     "iopub.status.busy": "2020-10-28T08:29:25.980865Z",
     "iopub.status.idle": "2020-10-28T08:29:26.665817Z",
     "shell.execute_reply": "2020-10-28T08:29:26.665201Z"
    },
    "papermill": {
     "duration": 0.782435,
     "end_time": "2020-10-28T08:29:26.665977",
     "exception": false,
     "start_time": "2020-10-28T08:29:25.883542",
     "status": "completed"
    },
    "tags": []
   },
   "outputs": [],
   "source": [
    "train['is_train']=1\n",
    "test['is_train']=0\n",
    "df=pd.concat([train,test])\n",
    "df['SQUARE_FT']=np.log1p(df['SQUARE_FT'])\n",
    "df['loc_'+'SQUARE_FT'+'mean'] = df.groupby(['locality'])['SQUARE_FT'].transform('mean')\n",
    "df['loc_'+'SQUARE_FT'+'median'] = df.groupby(['locality'])['SQUARE_FT'].transform('median')\n",
    "df['loc_'+'SQUARE_FT'+'_max'] = df.groupby(['locality'])['SQUARE_FT'].transform('max')\n",
    "df['loc_'+'SQUARE_FT'+'_min'] = df.groupby(['locality'])['SQUARE_FT'].transform('min')\n",
    "df['loc_'+'SQUARE_FT'+'_var'] = df.groupby(['locality'])['SQUARE_FT'].transform('std')\n",
    "df['city_'+'SQUARE_FT'+'_mean'] = df.groupby(['City'])['SQUARE_FT'].transform('mean')\n",
    "df['city_'+'SQUARE_FT'+'_median'] = df.groupby(['City'])['SQUARE_FT'].transform('median')\n",
    "df['city_'+'SQUARE_FT'+'_max'] = df.groupby(['City'])['SQUARE_FT'].transform('max')\n",
    "df['city_'+'SQUARE_FT'+'_min'] = df.groupby(['City'])['SQUARE_FT'].transform('min')\n",
    "df['city_'+'SQUARE_FT'+'_var'] = df.groupby(['City'])['SQUARE_FT'].transform('std')\n",
    "df['loc_'+'city_'+'SQUARE_FT'+'mean'] = df.groupby(['locality','City'])['SQUARE_FT'].transform('mean')\n",
    "df['loc_'+'count'] = df.groupby(['locality'])['locality'].transform('count')\n",
    "df['City_'+'count'] = df.groupby(['City'])['City'].transform('count')\n",
    "df['city'+'loc_count'] = df.groupby(['City'])['locality'].transform('count')\n",
    "df['city'+'loc_unique'] = df.groupby(['City'])['locality'].transform('nunique')\n",
    "df['PB_UC']=train['POSTED_BY']*3+train['UNDER_CONSTRUCTION']\n",
    "#df['loc_'+'BHK_NO'+'_mean'] = df.groupby(['loc'])['SQUARE_FT'].transform('mean')\n",
    "train=df[df['is_train']==1]\n",
    "test=df[df['is_train']==0]"
   ]
  },
  {
   "cell_type": "code",
   "execution_count": 24,
   "metadata": {
    "execution": {
     "iopub.execute_input": "2020-10-28T08:29:26.854329Z",
     "iopub.status.busy": "2020-10-28T08:29:26.844561Z",
     "iopub.status.idle": "2020-10-28T08:29:28.111292Z",
     "shell.execute_reply": "2020-10-28T08:29:28.110456Z"
    },
    "papermill": {
     "duration": 1.366012,
     "end_time": "2020-10-28T08:29:28.111426",
     "exception": false,
     "start_time": "2020-10-28T08:29:26.745414",
     "status": "completed"
    },
    "tags": []
   },
   "outputs": [
    {
     "data": {
      "text/html": [
       "<div>\n",
       "<style scoped>\n",
       "    .dataframe tbody tr th:only-of-type {\n",
       "        vertical-align: middle;\n",
       "    }\n",
       "\n",
       "    .dataframe tbody tr th {\n",
       "        vertical-align: top;\n",
       "    }\n",
       "\n",
       "    .dataframe thead th {\n",
       "        text-align: right;\n",
       "    }\n",
       "</style>\n",
       "<table border=\"1\" class=\"dataframe\">\n",
       "  <thead>\n",
       "    <tr style=\"text-align: right;\">\n",
       "      <th></th>\n",
       "      <th>POSTED_BY</th>\n",
       "      <th>UNDER_CONSTRUCTION</th>\n",
       "      <th>RERA</th>\n",
       "      <th>BHK_NO.</th>\n",
       "      <th>BHK_OR_RK</th>\n",
       "      <th>SQUARE_FT</th>\n",
       "      <th>READY_TO_MOVE</th>\n",
       "      <th>RESALE</th>\n",
       "      <th>ADDRESS</th>\n",
       "      <th>LONGITUDE</th>\n",
       "      <th>LATITUDE</th>\n",
       "      <th>TARGET(PRICE_IN_LACS)</th>\n",
       "      <th>is_train</th>\n",
       "      <th>TARGET_log</th>\n",
       "      <th>T1_log_dub</th>\n",
       "      <th>t1_dub</th>\n",
       "      <th>sq_per_room</th>\n",
       "      <th>City</th>\n",
       "      <th>locality</th>\n",
       "      <th>loc_SQUARE_FTmean</th>\n",
       "      <th>loc_SQUARE_FTmedian</th>\n",
       "      <th>loc_SQUARE_FT_max</th>\n",
       "      <th>loc_SQUARE_FT_min</th>\n",
       "      <th>loc_SQUARE_FT_var</th>\n",
       "      <th>city_SQUARE_FT_mean</th>\n",
       "      <th>city_SQUARE_FT_median</th>\n",
       "      <th>city_SQUARE_FT_max</th>\n",
       "      <th>city_SQUARE_FT_min</th>\n",
       "      <th>city_SQUARE_FT_var</th>\n",
       "      <th>loc_city_SQUARE_FTmean</th>\n",
       "      <th>loc_count</th>\n",
       "      <th>City_count</th>\n",
       "      <th>cityloc_count</th>\n",
       "      <th>cityloc_unique</th>\n",
       "      <th>PB_UC</th>\n",
       "      <th>unique</th>\n",
       "      <th>count_city</th>\n",
       "    </tr>\n",
       "  </thead>\n",
       "  <tbody>\n",
       "    <tr>\n",
       "      <th>62101</th>\n",
       "      <td>0</td>\n",
       "      <td>0</td>\n",
       "      <td>0</td>\n",
       "      <td>2</td>\n",
       "      <td>0</td>\n",
       "      <td>6.606678</td>\n",
       "      <td>1</td>\n",
       "      <td>1</td>\n",
       "      <td>Behind Deshmukh Lawns,,Amravati</td>\n",
       "      <td>20.933330</td>\n",
       "      <td>77.750000</td>\n",
       "      <td>NaN</td>\n",
       "      <td>0</td>\n",
       "      <td>NaN</td>\n",
       "      <td>NaN</td>\n",
       "      <td>NaN</td>\n",
       "      <td>369.510135</td>\n",
       "      <td>Amravati</td>\n",
       "      <td></td>\n",
       "      <td>7.020613</td>\n",
       "      <td>6.908755</td>\n",
       "      <td>8.597199</td>\n",
       "      <td>6.074184</td>\n",
       "      <td>0.539595</td>\n",
       "      <td>6.719703</td>\n",
       "      <td>6.803623</td>\n",
       "      <td>8.294300</td>\n",
       "      <td>2.090115</td>\n",
       "      <td>0.630396</td>\n",
       "      <td>6.673257</td>\n",
       "      <td>40</td>\n",
       "      <td>75</td>\n",
       "      <td>75</td>\n",
       "      <td>46</td>\n",
       "      <td>NaN</td>\n",
       "      <td>[Karjat, Kolkata, Surat, Pune, Lalitpur, Banga...</td>\n",
       "      <td>27</td>\n",
       "    </tr>\n",
       "    <tr>\n",
       "      <th>96179</th>\n",
       "      <td>0</td>\n",
       "      <td>0</td>\n",
       "      <td>0</td>\n",
       "      <td>2</td>\n",
       "      <td>0</td>\n",
       "      <td>6.621506</td>\n",
       "      <td>1</td>\n",
       "      <td>1</td>\n",
       "      <td>Saru Section Road, Nr Jamnagar Dairy,,Jamnagar</td>\n",
       "      <td>22.470000</td>\n",
       "      <td>70.070000</td>\n",
       "      <td>NaN</td>\n",
       "      <td>0</td>\n",
       "      <td>NaN</td>\n",
       "      <td>NaN</td>\n",
       "      <td>NaN</td>\n",
       "      <td>375.037504</td>\n",
       "      <td>Jamnagar</td>\n",
       "      <td></td>\n",
       "      <td>7.020613</td>\n",
       "      <td>6.908755</td>\n",
       "      <td>8.597199</td>\n",
       "      <td>6.074184</td>\n",
       "      <td>0.539595</td>\n",
       "      <td>6.857525</td>\n",
       "      <td>6.921893</td>\n",
       "      <td>8.969306</td>\n",
       "      <td>5.635502</td>\n",
       "      <td>0.416373</td>\n",
       "      <td>6.621506</td>\n",
       "      <td>40</td>\n",
       "      <td>206</td>\n",
       "      <td>206</td>\n",
       "      <td>105</td>\n",
       "      <td>NaN</td>\n",
       "      <td>[Karjat, Kolkata, Surat, Pune, Lalitpur, Banga...</td>\n",
       "      <td>27</td>\n",
       "    </tr>\n",
       "    <tr>\n",
       "      <th>13623</th>\n",
       "      <td>0</td>\n",
       "      <td>0</td>\n",
       "      <td>0</td>\n",
       "      <td>2</td>\n",
       "      <td>0</td>\n",
       "      <td>6.746569</td>\n",
       "      <td>1</td>\n",
       "      <td>1</td>\n",
       "      <td>Shivneri Colony,,Pune</td>\n",
       "      <td>20.934264</td>\n",
       "      <td>77.783878</td>\n",
       "      <td>35.0</td>\n",
       "      <td>1</td>\n",
       "      <td>3.583519</td>\n",
       "      <td>3.583519</td>\n",
       "      <td>35.0</td>\n",
       "      <td>425.066796</td>\n",
       "      <td>Pune</td>\n",
       "      <td></td>\n",
       "      <td>7.020613</td>\n",
       "      <td>6.908755</td>\n",
       "      <td>8.597199</td>\n",
       "      <td>6.074184</td>\n",
       "      <td>0.539595</td>\n",
       "      <td>6.998174</td>\n",
       "      <td>6.957527</td>\n",
       "      <td>11.575619</td>\n",
       "      <td>1.870264</td>\n",
       "      <td>0.575077</td>\n",
       "      <td>6.681870</td>\n",
       "      <td>40</td>\n",
       "      <td>6591</td>\n",
       "      <td>6591</td>\n",
       "      <td>508</td>\n",
       "      <td>0.0</td>\n",
       "      <td>[Karjat, Kolkata, Surat, Pune, Lalitpur, Banga...</td>\n",
       "      <td>27</td>\n",
       "    </tr>\n",
       "  </tbody>\n",
       "</table>\n",
       "</div>"
      ],
      "text/plain": [
       "       POSTED_BY  UNDER_CONSTRUCTION  RERA  BHK_NO.  BHK_OR_RK  SQUARE_FT  READY_TO_MOVE  RESALE                                         ADDRESS  LONGITUDE   LATITUDE  TARGET(PRICE_IN_LACS)  is_train  TARGET_log  T1_log_dub  t1_dub  sq_per_room      City locality  loc_SQUARE_FTmean  loc_SQUARE_FTmedian  loc_SQUARE_FT_max  loc_SQUARE_FT_min  loc_SQUARE_FT_var  city_SQUARE_FT_mean  city_SQUARE_FT_median  city_SQUARE_FT_max  city_SQUARE_FT_min  city_SQUARE_FT_var  loc_city_SQUARE_FTmean  loc_count  City_count  cityloc_count  cityloc_unique  PB_UC                                             unique  count_city\n",
       "62101          0                   0     0        2          0   6.606678              1       1                 Behind Deshmukh Lawns,,Amravati  20.933330  77.750000                    NaN         0         NaN         NaN     NaN   369.510135  Amravati                    7.020613             6.908755           8.597199           6.074184           0.539595             6.719703               6.803623            8.294300            2.090115            0.630396                6.673257         40          75             75              46    NaN  [Karjat, Kolkata, Surat, Pune, Lalitpur, Banga...          27\n",
       "96179          0                   0     0        2          0   6.621506              1       1  Saru Section Road, Nr Jamnagar Dairy,,Jamnagar  22.470000  70.070000                    NaN         0         NaN         NaN     NaN   375.037504  Jamnagar                    7.020613             6.908755           8.597199           6.074184           0.539595             6.857525               6.921893            8.969306            5.635502            0.416373                6.621506         40         206            206             105    NaN  [Karjat, Kolkata, Surat, Pune, Lalitpur, Banga...          27\n",
       "13623          0                   0     0        2          0   6.746569              1       1                           Shivneri Colony,,Pune  20.934264  77.783878                   35.0         1    3.583519    3.583519    35.0   425.066796      Pune                    7.020613             6.908755           8.597199           6.074184           0.539595             6.998174               6.957527           11.575619            1.870264            0.575077                6.681870         40        6591           6591             508    0.0  [Karjat, Kolkata, Surat, Pune, Lalitpur, Banga...          27"
      ]
     },
     "execution_count": 24,
     "metadata": {},
     "output_type": "execute_result"
    }
   ],
   "source": [
    "# to see same address with different city name can use below command\n",
    "encode=df.groupby(['locality'])['City'].unique()\n",
    "df['unique']=df['locality'].map(encode)\n",
    "df['count_city']=df.groupby(['locality'])['City'].transform('nunique')\n",
    "df.sort_values(by='count_city',ascending=False).head(3)"
   ]
  },
  {
   "cell_type": "markdown",
   "metadata": {
    "papermill": {
     "duration": 0.071311,
     "end_time": "2020-10-28T08:29:28.253571",
     "exception": false,
     "start_time": "2020-10-28T08:29:28.182260",
     "status": "completed"
    },
    "tags": []
   },
   "source": [
    "You can increase the value under head to 100 or 1000 to see more locality values with distinct city values, but remember that, few of them are genuine, there is possiblity that in two different city same name of locality can exist, but sometimes some arbitary name is given or state name is given instead of City you can correct that. "
   ]
  },
  {
   "cell_type": "code",
   "execution_count": 25,
   "metadata": {
    "execution": {
     "iopub.execute_input": "2020-10-28T08:29:28.403937Z",
     "iopub.status.busy": "2020-10-28T08:29:28.402799Z",
     "iopub.status.idle": "2020-10-28T08:29:28.434659Z",
     "shell.execute_reply": "2020-10-28T08:29:28.434006Z"
    },
    "papermill": {
     "duration": 0.110239,
     "end_time": "2020-10-28T08:29:28.434783",
     "exception": false,
     "start_time": "2020-10-28T08:29:28.324544",
     "status": "completed"
    },
    "tags": []
   },
   "outputs": [
    {
     "data": {
      "text/plain": [
       "(29451, 35)"
      ]
     },
     "execution_count": 25,
     "metadata": {},
     "output_type": "execute_result"
    },
    {
     "data": {
      "text/plain": [
       "(29050, 35)"
      ]
     },
     "execution_count": 25,
     "metadata": {},
     "output_type": "execute_result"
    }
   ],
   "source": [
    "train.shape\n",
    "train.drop_duplicates(subset=['POSTED_BY', 'UNDER_CONSTRUCTION', 'RERA', 'BHK_NO.', 'BHK_OR_RK', 'SQUARE_FT', 'READY_TO_MOVE', 'RESALE', 'ADDRESS', 'LONGITUDE', 'LATITUDE','TARGET_log'],keep ='last', inplace = True,ignore_index=True)\n",
    "train.shape"
   ]
  },
  {
   "cell_type": "markdown",
   "metadata": {
    "papermill": {
     "duration": 0.07163,
     "end_time": "2020-10-28T08:29:28.578227",
     "exception": false,
     "start_time": "2020-10-28T08:29:28.506597",
     "status": "completed"
    },
    "tags": []
   },
   "source": [
    "Remove approax 1% dublicate data "
   ]
  },
  {
   "cell_type": "markdown",
   "metadata": {
    "papermill": {
     "duration": 0.071426,
     "end_time": "2020-10-28T08:29:28.721436",
     "exception": false,
     "start_time": "2020-10-28T08:29:28.650010",
     "status": "completed"
    },
    "tags": []
   },
   "source": [
    "# Model Fitting"
   ]
  },
  {
   "cell_type": "code",
   "execution_count": 26,
   "metadata": {
    "execution": {
     "iopub.execute_input": "2020-10-28T08:29:28.872257Z",
     "iopub.status.busy": "2020-10-28T08:29:28.871447Z",
     "iopub.status.idle": "2020-10-28T08:29:30.090694Z",
     "shell.execute_reply": "2020-10-28T08:29:30.091441Z"
    },
    "papermill": {
     "duration": 1.298336,
     "end_time": "2020-10-28T08:29:30.091667",
     "exception": false,
     "start_time": "2020-10-28T08:29:28.793331",
     "status": "completed"
    },
    "tags": []
   },
   "outputs": [],
   "source": [
    "#Importing Packages\n",
    "from sklearn.metrics import mean_squared_error\n",
    "from sklearn.model_selection import GridSearchCV,KFold\n",
    "from xgboost.sklearn import XGBRegressor\n",
    "from sklearn.preprocessing import StandardScaler\n",
    "from lightgbm import LGBMRegressor\n",
    "from catboost import CatBoostRegressor"
   ]
  },
  {
   "cell_type": "code",
   "execution_count": 27,
   "metadata": {
    "execution": {
     "iopub.execute_input": "2020-10-28T08:29:30.330136Z",
     "iopub.status.busy": "2020-10-28T08:29:30.315796Z",
     "iopub.status.idle": "2020-10-28T08:29:30.340303Z",
     "shell.execute_reply": "2020-10-28T08:29:30.339441Z"
    },
    "papermill": {
     "duration": 0.115636,
     "end_time": "2020-10-28T08:29:30.340434",
     "exception": false,
     "start_time": "2020-10-28T08:29:30.224798",
     "status": "completed"
    },
    "tags": []
   },
   "outputs": [
    {
     "data": {
      "text/html": [
       "<div>\n",
       "<style scoped>\n",
       "    .dataframe tbody tr th:only-of-type {\n",
       "        vertical-align: middle;\n",
       "    }\n",
       "\n",
       "    .dataframe tbody tr th {\n",
       "        vertical-align: top;\n",
       "    }\n",
       "\n",
       "    .dataframe thead th {\n",
       "        text-align: right;\n",
       "    }\n",
       "</style>\n",
       "<table border=\"1\" class=\"dataframe\">\n",
       "  <thead>\n",
       "    <tr style=\"text-align: right;\">\n",
       "      <th></th>\n",
       "      <th>POSTED_BY</th>\n",
       "      <th>UNDER_CONSTRUCTION</th>\n",
       "      <th>RERA</th>\n",
       "      <th>BHK_NO.</th>\n",
       "      <th>BHK_OR_RK</th>\n",
       "      <th>SQUARE_FT</th>\n",
       "      <th>READY_TO_MOVE</th>\n",
       "      <th>RESALE</th>\n",
       "      <th>ADDRESS</th>\n",
       "      <th>LONGITUDE</th>\n",
       "      <th>LATITUDE</th>\n",
       "      <th>TARGET(PRICE_IN_LACS)</th>\n",
       "      <th>is_train</th>\n",
       "      <th>TARGET_log</th>\n",
       "      <th>T1_log_dub</th>\n",
       "      <th>t1_dub</th>\n",
       "      <th>sq_per_room</th>\n",
       "      <th>City</th>\n",
       "      <th>locality</th>\n",
       "      <th>loc_SQUARE_FTmean</th>\n",
       "      <th>loc_SQUARE_FTmedian</th>\n",
       "      <th>loc_SQUARE_FT_max</th>\n",
       "      <th>loc_SQUARE_FT_min</th>\n",
       "      <th>loc_SQUARE_FT_var</th>\n",
       "      <th>city_SQUARE_FT_mean</th>\n",
       "      <th>city_SQUARE_FT_median</th>\n",
       "      <th>city_SQUARE_FT_max</th>\n",
       "      <th>city_SQUARE_FT_min</th>\n",
       "      <th>city_SQUARE_FT_var</th>\n",
       "      <th>loc_city_SQUARE_FTmean</th>\n",
       "      <th>loc_count</th>\n",
       "      <th>City_count</th>\n",
       "      <th>cityloc_count</th>\n",
       "      <th>cityloc_unique</th>\n",
       "      <th>PB_UC</th>\n",
       "    </tr>\n",
       "  </thead>\n",
       "  <tbody>\n",
       "    <tr>\n",
       "      <th>29451</th>\n",
       "      <td>0</td>\n",
       "      <td>0</td>\n",
       "      <td>0</td>\n",
       "      <td>1</td>\n",
       "      <td>0</td>\n",
       "      <td>6.302933</td>\n",
       "      <td>1</td>\n",
       "      <td>1</td>\n",
       "      <td>Kamrej,Surat</td>\n",
       "      <td>21.262000</td>\n",
       "      <td>73.047700</td>\n",
       "      <td>NaN</td>\n",
       "      <td>0</td>\n",
       "      <td>NaN</td>\n",
       "      <td>NaN</td>\n",
       "      <td>NaN</td>\n",
       "      <td>545.171340</td>\n",
       "      <td>Surat</td>\n",
       "      <td>Kamrej</td>\n",
       "      <td>6.796696</td>\n",
       "      <td>6.884629</td>\n",
       "      <td>7.346365</td>\n",
       "      <td>6.302933</td>\n",
       "      <td>0.311907</td>\n",
       "      <td>7.184105</td>\n",
       "      <td>7.148406</td>\n",
       "      <td>9.297443</td>\n",
       "      <td>2.397895</td>\n",
       "      <td>0.553433</td>\n",
       "      <td>6.796696</td>\n",
       "      <td>13</td>\n",
       "      <td>1449</td>\n",
       "      <td>1449</td>\n",
       "      <td>174</td>\n",
       "      <td>NaN</td>\n",
       "    </tr>\n",
       "    <tr>\n",
       "      <th>29452</th>\n",
       "      <td>1</td>\n",
       "      <td>1</td>\n",
       "      <td>1</td>\n",
       "      <td>2</td>\n",
       "      <td>0</td>\n",
       "      <td>6.685861</td>\n",
       "      <td>0</td>\n",
       "      <td>0</td>\n",
       "      <td>Panvel,Lalitpur</td>\n",
       "      <td>18.966114</td>\n",
       "      <td>73.148278</td>\n",
       "      <td>NaN</td>\n",
       "      <td>0</td>\n",
       "      <td>NaN</td>\n",
       "      <td>NaN</td>\n",
       "      <td>NaN</td>\n",
       "      <td>400.000000</td>\n",
       "      <td>Lalitpur</td>\n",
       "      <td>Panvel</td>\n",
       "      <td>6.669816</td>\n",
       "      <td>6.663616</td>\n",
       "      <td>7.898644</td>\n",
       "      <td>4.933293</td>\n",
       "      <td>0.503415</td>\n",
       "      <td>6.927322</td>\n",
       "      <td>6.908755</td>\n",
       "      <td>12.756906</td>\n",
       "      <td>4.158884</td>\n",
       "      <td>0.634453</td>\n",
       "      <td>6.612911</td>\n",
       "      <td>170</td>\n",
       "      <td>10063</td>\n",
       "      <td>10063</td>\n",
       "      <td>1016</td>\n",
       "      <td>NaN</td>\n",
       "    </tr>\n",
       "    <tr>\n",
       "      <th>29453</th>\n",
       "      <td>1</td>\n",
       "      <td>0</td>\n",
       "      <td>0</td>\n",
       "      <td>2</td>\n",
       "      <td>0</td>\n",
       "      <td>7.137355</td>\n",
       "      <td>1</td>\n",
       "      <td>1</td>\n",
       "      <td>New Town,Kolkata</td>\n",
       "      <td>22.592200</td>\n",
       "      <td>88.484911</td>\n",
       "      <td>NaN</td>\n",
       "      <td>0</td>\n",
       "      <td>NaN</td>\n",
       "      <td>NaN</td>\n",
       "      <td>NaN</td>\n",
       "      <td>628.548257</td>\n",
       "      <td>Kolkata</td>\n",
       "      <td>New Town</td>\n",
       "      <td>7.294144</td>\n",
       "      <td>7.297143</td>\n",
       "      <td>12.119422</td>\n",
       "      <td>5.993961</td>\n",
       "      <td>0.547390</td>\n",
       "      <td>7.047386</td>\n",
       "      <td>7.004161</td>\n",
       "      <td>12.119422</td>\n",
       "      <td>4.700489</td>\n",
       "      <td>0.472686</td>\n",
       "      <td>7.294144</td>\n",
       "      <td>464</td>\n",
       "      <td>5850</td>\n",
       "      <td>5850</td>\n",
       "      <td>588</td>\n",
       "      <td>NaN</td>\n",
       "    </tr>\n",
       "    <tr>\n",
       "      <th>29454</th>\n",
       "      <td>1</td>\n",
       "      <td>0</td>\n",
       "      <td>0</td>\n",
       "      <td>3</td>\n",
       "      <td>0</td>\n",
       "      <td>7.245177</td>\n",
       "      <td>1</td>\n",
       "      <td>1</td>\n",
       "      <td>Kalwar Road,Jaipur</td>\n",
       "      <td>26.988300</td>\n",
       "      <td>75.584600</td>\n",
       "      <td>NaN</td>\n",
       "      <td>0</td>\n",
       "      <td>NaN</td>\n",
       "      <td>NaN</td>\n",
       "      <td>NaN</td>\n",
       "      <td>466.776496</td>\n",
       "      <td>Jaipur</td>\n",
       "      <td>Kalwar Road</td>\n",
       "      <td>6.960707</td>\n",
       "      <td>7.003929</td>\n",
       "      <td>8.998815</td>\n",
       "      <td>6.552804</td>\n",
       "      <td>0.306906</td>\n",
       "      <td>7.145348</td>\n",
       "      <td>7.151485</td>\n",
       "      <td>10.159710</td>\n",
       "      <td>3.258097</td>\n",
       "      <td>0.440459</td>\n",
       "      <td>6.960707</td>\n",
       "      <td>85</td>\n",
       "      <td>3229</td>\n",
       "      <td>3229</td>\n",
       "      <td>319</td>\n",
       "      <td>NaN</td>\n",
       "    </tr>\n",
       "    <tr>\n",
       "      <th>29455</th>\n",
       "      <td>0</td>\n",
       "      <td>0</td>\n",
       "      <td>0</td>\n",
       "      <td>1</td>\n",
       "      <td>0</td>\n",
       "      <td>6.067216</td>\n",
       "      <td>1</td>\n",
       "      <td>1</td>\n",
       "      <td>Mai Mandir,Nadiad</td>\n",
       "      <td>22.700000</td>\n",
       "      <td>72.870000</td>\n",
       "      <td>NaN</td>\n",
       "      <td>0</td>\n",
       "      <td>NaN</td>\n",
       "      <td>NaN</td>\n",
       "      <td>NaN</td>\n",
       "      <td>430.477830</td>\n",
       "      <td>Nadiad</td>\n",
       "      <td>Mai Mandir</td>\n",
       "      <td>6.579249</td>\n",
       "      <td>6.579249</td>\n",
       "      <td>7.091282</td>\n",
       "      <td>6.067216</td>\n",
       "      <td>0.724124</td>\n",
       "      <td>6.968689</td>\n",
       "      <td>6.908755</td>\n",
       "      <td>15.176487</td>\n",
       "      <td>4.276690</td>\n",
       "      <td>1.581456</td>\n",
       "      <td>6.579249</td>\n",
       "      <td>2</td>\n",
       "      <td>41</td>\n",
       "      <td>41</td>\n",
       "      <td>33</td>\n",
       "      <td>NaN</td>\n",
       "    </tr>\n",
       "  </tbody>\n",
       "</table>\n",
       "</div>"
      ],
      "text/plain": [
       "       POSTED_BY  UNDER_CONSTRUCTION  RERA  BHK_NO.  BHK_OR_RK  SQUARE_FT  READY_TO_MOVE  RESALE             ADDRESS  LONGITUDE   LATITUDE  TARGET(PRICE_IN_LACS)  is_train  TARGET_log  T1_log_dub  t1_dub  sq_per_room      City     locality  loc_SQUARE_FTmean  loc_SQUARE_FTmedian  loc_SQUARE_FT_max  loc_SQUARE_FT_min  loc_SQUARE_FT_var  city_SQUARE_FT_mean  city_SQUARE_FT_median  city_SQUARE_FT_max  city_SQUARE_FT_min  city_SQUARE_FT_var  loc_city_SQUARE_FTmean  loc_count  City_count  cityloc_count  cityloc_unique  PB_UC\n",
       "29451          0                   0     0        1          0   6.302933              1       1        Kamrej,Surat  21.262000  73.047700                    NaN         0         NaN         NaN     NaN   545.171340     Surat       Kamrej           6.796696             6.884629           7.346365           6.302933           0.311907             7.184105               7.148406            9.297443            2.397895            0.553433                6.796696         13        1449           1449             174    NaN\n",
       "29452          1                   1     1        2          0   6.685861              0       0     Panvel,Lalitpur  18.966114  73.148278                    NaN         0         NaN         NaN     NaN   400.000000  Lalitpur       Panvel           6.669816             6.663616           7.898644           4.933293           0.503415             6.927322               6.908755           12.756906            4.158884            0.634453                6.612911        170       10063          10063            1016    NaN\n",
       "29453          1                   0     0        2          0   7.137355              1       1    New Town,Kolkata  22.592200  88.484911                    NaN         0         NaN         NaN     NaN   628.548257   Kolkata     New Town           7.294144             7.297143          12.119422           5.993961           0.547390             7.047386               7.004161           12.119422            4.700489            0.472686                7.294144        464        5850           5850             588    NaN\n",
       "29454          1                   0     0        3          0   7.245177              1       1  Kalwar Road,Jaipur  26.988300  75.584600                    NaN         0         NaN         NaN     NaN   466.776496    Jaipur  Kalwar Road           6.960707             7.003929           8.998815           6.552804           0.306906             7.145348               7.151485           10.159710            3.258097            0.440459                6.960707         85        3229           3229             319    NaN\n",
       "29455          0                   0     0        1          0   6.067216              1       1   Mai Mandir,Nadiad  22.700000  72.870000                    NaN         0         NaN         NaN     NaN   430.477830    Nadiad   Mai Mandir           6.579249             6.579249           7.091282           6.067216           0.724124             6.968689               6.908755           15.176487            4.276690            1.581456                6.579249          2          41             41              33    NaN"
      ]
     },
     "execution_count": 27,
     "metadata": {},
     "output_type": "execute_result"
    }
   ],
   "source": [
    "test.head()"
   ]
  },
  {
   "cell_type": "code",
   "execution_count": 28,
   "metadata": {
    "execution": {
     "iopub.execute_input": "2020-10-28T08:29:30.506943Z",
     "iopub.status.busy": "2020-10-28T08:29:30.505787Z",
     "iopub.status.idle": "2020-10-28T08:29:30.509699Z",
     "shell.execute_reply": "2020-10-28T08:29:30.508939Z"
    },
    "papermill": {
     "duration": 0.095406,
     "end_time": "2020-10-28T08:29:30.509841",
     "exception": false,
     "start_time": "2020-10-28T08:29:30.414435",
     "status": "completed"
    },
    "tags": []
   },
   "outputs": [],
   "source": [
    "def run_gradient_boosting(clf,k, fit_params, train, test, features):\n",
    "  N_SPLITS = k\n",
    "  oofs = np.zeros(len(train))\n",
    "  preds = np.zeros((len(test)))\n",
    "\n",
    "  folds = KFold(n_splits = N_SPLITS,random_state=2021)\n",
    "\n",
    "  for fold_, (trn_idx, val_idx) in enumerate(folds.split(train, train[TARGET_COL])):\n",
    "    print(f'\\n------------- Fold {fold_ + 1} -------------')\n",
    "    target=train[TARGET_COL]\n",
    "    X_trn, y_trn = train[features].iloc[trn_idx], target.iloc[trn_idx]\n",
    "\n",
    "    X_val, y_val = train[features].iloc[val_idx], target.iloc[val_idx]\n",
    "\n",
    "    X_test = test[features]\n",
    "\n",
    "    scaler = StandardScaler()\n",
    "    _ = scaler.fit(X_trn)\n",
    "\n",
    "    X_trn = scaler.transform(X_trn)\n",
    "    X_val = scaler.transform(X_val)\n",
    "    X_test = scaler.transform(X_test)\n",
    "    \n",
    "    _ = clf.fit(X_trn, y_trn, eval_set = [(X_val, y_val)], **fit_params)\n",
    "    preds_val = clf.predict(X_val)\n",
    "    preds_test = clf.predict(X_test)\n",
    "    preds_test1=(np.exp(preds_test)-1)\n",
    "    fold_score =  np.sqrt(mean_squared_error(y_val,preds_val)) \n",
    "    print(f'\\n RMLSE score for validation set is {fold_score}')\n",
    "\n",
    "    oofs[val_idx] = (np.exp(preds_val)-1)\n",
    "    preds += preds_test1 / N_SPLITS\n",
    "\n",
    "\n",
    "  oofs_score = np.sqrt(mean_squared_error(target, np.log1p(oofs)))\n",
    "  print(f'\\n\\n rmlse score for oofs is {oofs_score}')\n",
    "\n",
    "  return oofs, preds"
   ]
  },
  {
   "cell_type": "code",
   "execution_count": 29,
   "metadata": {
    "execution": {
     "iopub.execute_input": "2020-10-28T08:29:30.663715Z",
     "iopub.status.busy": "2020-10-28T08:29:30.662860Z",
     "iopub.status.idle": "2020-10-28T08:29:30.667382Z",
     "shell.execute_reply": "2020-10-28T08:29:30.667950Z"
    },
    "papermill": {
     "duration": 0.084829,
     "end_time": "2020-10-28T08:29:30.668121",
     "exception": false,
     "start_time": "2020-10-28T08:29:30.583292",
     "status": "completed"
    },
    "tags": []
   },
   "outputs": [
    {
     "data": {
      "text/plain": [
       "Index(['POSTED_BY', 'UNDER_CONSTRUCTION', 'RERA', 'BHK_NO.', 'BHK_OR_RK', 'SQUARE_FT', 'READY_TO_MOVE', 'RESALE', 'ADDRESS', 'LONGITUDE', 'LATITUDE', 'TARGET(PRICE_IN_LACS)', 'is_train', 'TARGET_log', 'T1_log_dub', 't1_dub', 'sq_per_room', 'City', 'locality', 'loc_SQUARE_FTmean', 'loc_SQUARE_FTmedian', 'loc_SQUARE_FT_max', 'loc_SQUARE_FT_min', 'loc_SQUARE_FT_var', 'city_SQUARE_FT_mean', 'city_SQUARE_FT_median', 'city_SQUARE_FT_max', 'city_SQUARE_FT_min', 'city_SQUARE_FT_var', 'loc_city_SQUARE_FTmean', 'loc_count', 'City_count', 'cityloc_count', 'cityloc_unique', 'PB_UC'], dtype='object')"
      ]
     },
     "execution_count": 29,
     "metadata": {},
     "output_type": "execute_result"
    }
   ],
   "source": [
    "train.columns"
   ]
  },
  {
   "cell_type": "code",
   "execution_count": 30,
   "metadata": {
    "execution": {
     "iopub.execute_input": "2020-10-28T08:29:30.824613Z",
     "iopub.status.busy": "2020-10-28T08:29:30.823789Z",
     "iopub.status.idle": "2020-10-28T08:29:30.827561Z",
     "shell.execute_reply": "2020-10-28T08:29:30.826942Z"
    },
    "papermill": {
     "duration": 0.084674,
     "end_time": "2020-10-28T08:29:30.827705",
     "exception": false,
     "start_time": "2020-10-28T08:29:30.743031",
     "status": "completed"
    },
    "tags": []
   },
   "outputs": [],
   "source": [
    "# Selecting Columns to take in the model\n",
    "model_col=['POSTED_BY', 'UNDER_CONSTRUCTION', 'RERA','BHK_NO.', 'SQUARE_FT', 'RESALE','LONGITUDE', 'LATITUDE', 'BHK_OR_RK', 'loc_SQUARE_FTmean', 'loc_SQUARE_FT_max', 'loc_SQUARE_FT_min', 'loc_SQUARE_FT_var', 'city_SQUARE_FT_mean', 'city_SQUARE_FT_max', 'city_SQUARE_FT_min', 'city_SQUARE_FT_var','cityloc_count']\n",
    "cat_col=['POSTED_BY', 'UNDER_CONSTRUCTION', 'RERA', 'BHK_NO.', 'BHK_OR_RK', 'RESALE']\n",
    "tar_col=['TARGET(PRICE_IN_LACS)']"
   ]
  },
  {
   "cell_type": "code",
   "execution_count": 31,
   "metadata": {
    "execution": {
     "iopub.execute_input": "2020-10-28T08:29:30.992571Z",
     "iopub.status.busy": "2020-10-28T08:29:30.991338Z",
     "iopub.status.idle": "2020-10-28T08:31:37.082338Z",
     "shell.execute_reply": "2020-10-28T08:31:37.083125Z"
    },
    "papermill": {
     "duration": 126.178035,
     "end_time": "2020-10-28T08:31:37.083401",
     "exception": false,
     "start_time": "2020-10-28T08:29:30.905366",
     "status": "completed"
    },
    "tags": []
   },
   "outputs": [
    {
     "name": "stdout",
     "output_type": "stream",
     "text": [
      "\n",
      "------------- Fold 1 -------------\n",
      "\n",
      " RMLSE score for validation set is 0.24957457008701076\n",
      "\n",
      "------------- Fold 2 -------------\n",
      "\n",
      " RMLSE score for validation set is 0.28191394016229776\n",
      "\n",
      "------------- Fold 3 -------------\n",
      "\n",
      " RMLSE score for validation set is 0.2922029104338697\n",
      "\n",
      "------------- Fold 4 -------------\n",
      "\n",
      " RMLSE score for validation set is 0.282851745099516\n",
      "\n",
      "------------- Fold 5 -------------\n",
      "\n",
      " RMLSE score for validation set is 0.2808508150410477\n",
      "\n",
      "------------- Fold 6 -------------\n",
      "\n",
      " RMLSE score for validation set is 0.2829377851542719\n",
      "\n",
      "------------- Fold 7 -------------\n",
      "\n",
      " RMLSE score for validation set is 0.2646145119369259\n",
      "\n",
      "------------- Fold 8 -------------\n",
      "\n",
      " RMLSE score for validation set is 0.28873490445191885\n",
      "\n",
      "------------- Fold 9 -------------\n",
      "\n",
      " RMLSE score for validation set is 0.2934613898266544\n",
      "\n",
      "------------- Fold 10 -------------\n",
      "\n",
      " RMLSE score for validation set is 0.30136909459682815\n",
      "\n",
      "\n",
      " rmlse score for oofs is 0.28220793068630434\n"
     ]
    }
   ],
   "source": [
    "from sklearn.model_selection import GridSearchCV,StratifiedKFold,KFold\n",
    "\n",
    "xgb = XGBRegressor(n_estimators = 8000,\n",
    "#                        learning_rate = 0.05,\n",
    "#                       colsample_bytree = 0.76,\n",
    "                        )\n",
    "fit_params = {'verbose': False, 'early_stopping_rounds': 100}\n",
    "TARGET_COL= 'TARGET_log'\n",
    "features =model_col\n",
    "xgb_oofs, xgb_preds = run_gradient_boosting(xgb,10, fit_params, train, test, features)"
   ]
  },
  {
   "cell_type": "markdown",
   "metadata": {
    "papermill": {
     "duration": 0.095733,
     "end_time": "2020-10-28T08:31:37.276601",
     "exception": false,
     "start_time": "2020-10-28T08:31:37.180868",
     "status": "completed"
    },
    "tags": []
   },
   "source": [
    "0.2821 on oof, 0.2632 on public, 0.2657 on private can get rank 11 with this"
   ]
  },
  {
   "cell_type": "markdown",
   "metadata": {
    "papermill": {
     "duration": 0.078927,
     "end_time": "2020-10-28T08:31:37.434212",
     "exception": false,
     "start_time": "2020-10-28T08:31:37.355285",
     "status": "completed"
    },
    "tags": []
   },
   "source": [
    "### This  is to get Rough idea of how much each step matters, \n",
    "* I have not fixed random seed in kfold that time, so score may vary a bit for you\n",
    "\n",
    "* 0.2917 ,5 fold only 2 genrated features city and loc sqrt_mean\n",
    "* 0.2911     , 5 fold only 2 genrated features city and loc log_sqrt_mean\n",
    "* 0.2892     , 5 fold with 8 genrated fetures mean , max , min, var, of city and loc with log_sqrt \n",
    "* Not used ,0.2879   , 5 fold with 9 variables new variable city mean if count>2\n",
    "* Not used ,0.2891   , 5 fold with 9 variables new variable city mean if count>1\n",
    "* Not used ,0.2912  , added variable Loc count \n",
    "* Not used ,0.2892  , added city loc count \n",
    "* 0.2872  , added cityloc unique values \n",
    "* Not used  ,0.2923, added median of sqrt grouped with city and loc \n",
    "----------------------------------------------------\n",
    "### 0.2632 on public leader board # 0.2823 on validation set # Kfold =10 \n",
    "----------------------------------------------------"
   ]
  },
  {
   "cell_type": "code",
   "execution_count": 32,
   "metadata": {
    "execution": {
     "iopub.execute_input": "2020-10-28T08:31:37.600860Z",
     "iopub.status.busy": "2020-10-28T08:31:37.600055Z",
     "iopub.status.idle": "2020-10-28T08:31:38.684114Z",
     "shell.execute_reply": "2020-10-28T08:31:38.683308Z"
    },
    "papermill": {
     "duration": 1.170825,
     "end_time": "2020-10-28T08:31:38.684251",
     "exception": false,
     "start_time": "2020-10-28T08:31:37.513426",
     "status": "completed"
    },
    "tags": []
   },
   "outputs": [],
   "source": [
    "# Here You can even extract your training data and analyse on which outcomes you are getting most error\n",
    "# and take further step accordingly\n",
    "train['pred']=xgb_oofs\n",
    "train['error']=(train['TARGET_log']-np.log1p(train['pred']))**2\n",
    "vis=train[model_col]\n",
    "vis.to_csv('train_out.csv',index=False)"
   ]
  },
  {
   "cell_type": "code",
   "execution_count": 33,
   "metadata": {
    "execution": {
     "iopub.execute_input": "2020-10-28T08:31:38.889749Z",
     "iopub.status.busy": "2020-10-28T08:31:38.888897Z",
     "iopub.status.idle": "2020-10-28T08:32:30.283843Z",
     "shell.execute_reply": "2020-10-28T08:32:30.284912Z"
    },
    "papermill": {
     "duration": 51.497057,
     "end_time": "2020-10-28T08:32:30.285139",
     "exception": false,
     "start_time": "2020-10-28T08:31:38.788082",
     "status": "completed"
    },
    "tags": []
   },
   "outputs": [
    {
     "name": "stdout",
     "output_type": "stream",
     "text": [
      "\n",
      "------------- Fold 1 -------------\n",
      "\n",
      " RMLSE score for validation set is 0.25951807658172327\n",
      "\n",
      "------------- Fold 2 -------------\n",
      "\n",
      " RMLSE score for validation set is 0.27998571187154164\n",
      "\n",
      "------------- Fold 3 -------------\n",
      "\n",
      " RMLSE score for validation set is 0.288707108172276\n",
      "\n",
      "------------- Fold 4 -------------\n",
      "\n",
      " RMLSE score for validation set is 0.27737700864911125\n",
      "\n",
      "------------- Fold 5 -------------\n",
      "\n",
      " RMLSE score for validation set is 0.27452072220918466\n",
      "\n",
      "------------- Fold 6 -------------\n",
      "\n",
      " RMLSE score for validation set is 0.2880565660749574\n",
      "\n",
      "------------- Fold 7 -------------\n",
      "\n",
      " RMLSE score for validation set is 0.2647736364814016\n",
      "\n",
      "------------- Fold 8 -------------\n",
      "\n",
      " RMLSE score for validation set is 0.26284024812598916\n",
      "\n",
      "------------- Fold 9 -------------\n",
      "\n",
      " RMLSE score for validation set is 0.2908131539125802\n",
      "\n",
      "------------- Fold 10 -------------\n",
      "\n",
      " RMLSE score for validation set is 0.30361737790649473\n",
      "\n",
      "\n",
      " rmlse score for oofs is 0.27934128223524024\n"
     ]
    }
   ],
   "source": [
    "\n",
    "lgb = LGBMRegressor(n_estimators=5000, importance_type='gain',\n",
    "#                          learning_rate = 0.05,\n",
    "#                          colsample_bytree = 0.76,\n",
    "                        )\n",
    "fit_params = {'verbose': False, 'early_stopping_rounds': 100}\n",
    "TARGET_COL= 'TARGET_log'\n",
    "features =model_col\n",
    "lgb_oofs, lgb_preds = run_gradient_boosting(lgb,10, fit_params, train, test, features)"
   ]
  },
  {
   "cell_type": "markdown",
   "metadata": {
    "papermill": {
     "duration": 0.095411,
     "end_time": "2020-10-28T08:32:30.482088",
     "exception": false,
     "start_time": "2020-10-28T08:32:30.386677",
     "status": "completed"
    },
    "tags": []
   },
   "source": [
    "0.2785 oof, 0.2660 public leaderboard, 0.2672 private leaderboard,\n",
    "* you can give categorical_column also as categorical_column in lgb it can improve your score"
   ]
  },
  {
   "cell_type": "code",
   "execution_count": 34,
   "metadata": {
    "execution": {
     "iopub.execute_input": "2020-10-28T08:32:30.659660Z",
     "iopub.status.busy": "2020-10-28T08:32:30.658661Z",
     "iopub.status.idle": "2020-10-28T08:35:36.270824Z",
     "shell.execute_reply": "2020-10-28T08:35:36.271707Z"
    },
    "papermill": {
     "duration": 185.70676,
     "end_time": "2020-10-28T08:35:36.271962",
     "exception": false,
     "start_time": "2020-10-28T08:32:30.565202",
     "status": "completed"
    },
    "tags": []
   },
   "outputs": [
    {
     "name": "stdout",
     "output_type": "stream",
     "text": [
      "\n",
      "------------- Fold 1 -------------\n",
      "\n",
      " RMLSE score for validation set is 0.24850886224366708\n",
      "\n",
      "------------- Fold 2 -------------\n",
      "\n",
      " RMLSE score for validation set is 0.28344086084750725\n",
      "\n",
      "------------- Fold 3 -------------\n",
      "\n",
      " RMLSE score for validation set is 0.2854417375733881\n",
      "\n",
      "------------- Fold 4 -------------\n",
      "\n",
      " RMLSE score for validation set is 0.2759740575700078\n",
      "\n",
      "------------- Fold 5 -------------\n",
      "\n",
      " RMLSE score for validation set is 0.2746575784286145\n",
      "\n",
      "------------- Fold 6 -------------\n",
      "\n",
      " RMLSE score for validation set is 0.2859553543882909\n",
      "\n",
      "------------- Fold 7 -------------\n",
      "\n",
      " RMLSE score for validation set is 0.25924761428676163\n",
      "\n",
      "------------- Fold 8 -------------\n",
      "\n",
      " RMLSE score for validation set is 0.26365375869401797\n",
      "\n",
      "------------- Fold 9 -------------\n",
      "\n",
      " RMLSE score for validation set is 0.28893191836686816\n",
      "\n",
      "------------- Fold 10 -------------\n",
      "\n",
      " RMLSE score for validation set is 0.30250073181026543\n",
      "\n",
      "\n",
      " rmlse score for oofs is 0.27724578779262926\n"
     ]
    }
   ],
   "source": [
    "# You can even see Plot of your error with iteration in catboost, by adding plot=True in fit_parametrs\n",
    "from catboost import CatBoostRegressor\n",
    "cb = CatBoostRegressor(iterations=10000,\n",
    "                       learning_rate = 0.1,\n",
    "#                         colsample_bytree = 0.76,\n",
    "                        )\n",
    "fit_params = {'verbose': False , 'early_stopping_rounds': 100}\n",
    "TARGET_COL= 'TARGET_log'\n",
    "features =model_col\n",
    "cb_oofs, cb_preds = run_gradient_boosting(cb,10, fit_params, train, test, features)"
   ]
  },
  {
   "cell_type": "markdown",
   "metadata": {
    "papermill": {
     "duration": 0.087507,
     "end_time": "2020-10-28T08:35:36.447750",
     "exception": false,
     "start_time": "2020-10-28T08:35:36.360243",
     "status": "completed"
    },
    "tags": []
   },
   "source": [
    "* In catboost learning rate decreases as iterations increase, but i have kep it constant for faster result\n",
    "* can also added categorical feature in fit_params to improve your model\n",
    "* 0.2757 on out of fold, 0.2644 on public leaderboard, 0.2673 on private leaderboard"
   ]
  },
  {
   "cell_type": "code",
   "execution_count": 35,
   "metadata": {
    "execution": {
     "iopub.execute_input": "2020-10-28T08:35:36.630837Z",
     "iopub.status.busy": "2020-10-28T08:35:36.629897Z",
     "iopub.status.idle": "2020-10-28T08:35:36.908039Z",
     "shell.execute_reply": "2020-10-28T08:35:36.907294Z"
    },
    "papermill": {
     "duration": 0.372746,
     "end_time": "2020-10-28T08:35:36.908203",
     "exception": false,
     "start_time": "2020-10-28T08:35:36.535457",
     "status": "completed"
    },
    "tags": []
   },
   "outputs": [],
   "source": [
    "# you can change predictions to xgb_pred and lgb_pred to extract their outputs\n",
    "test['t2']=cb_preds\n",
    "sample['TARGET(PRICE_IN_LACS)']=np.where(test['t1_dub'].isna()==True,test['t2'],test['t1_dub'])\n",
    "sample.to_csv('10fold_ccccb_2mod_final.csv',index=False)"
   ]
  },
  {
   "cell_type": "code",
   "execution_count": 36,
   "metadata": {
    "execution": {
     "iopub.execute_input": "2020-10-28T08:35:37.105840Z",
     "iopub.status.busy": "2020-10-28T08:35:37.099335Z",
     "iopub.status.idle": "2020-10-28T08:35:37.463553Z",
     "shell.execute_reply": "2020-10-28T08:35:37.462756Z"
    },
    "papermill": {
     "duration": 0.465651,
     "end_time": "2020-10-28T08:35:37.463680",
     "exception": false,
     "start_time": "2020-10-28T08:35:36.998029",
     "status": "completed"
    },
    "tags": []
   },
   "outputs": [
    {
     "data": {
      "text/plain": [
       "<matplotlib.axes._subplots.AxesSubplot at 0x7f795d077a90>"
      ]
     },
     "execution_count": 36,
     "metadata": {},
     "output_type": "execute_result"
    },
    {
     "data": {
      "image/png": "[encoded data removed]",
      "text/plain": [
       "<Figure size 432x288 with 1 Axes>"
      ]
     },
     "metadata": {
      "needs_background": "light"
     },
     "output_type": "display_data"
    }
   ],
   "source": [
    "# Checking Feature Importance\n",
    "# you can also change cb to xgb or lgb to see their imporatance of variable\n",
    "feat_importances = pd.Series(cb.feature_importances_, index=model_col)\n",
    "feat_importances.nlargest(20).plot(kind='barh')\n",
    "plt.show()"
   ]
  },
  {
   "cell_type": "markdown",
   "metadata": {
    "papermill": {
     "duration": 0.089766,
     "end_time": "2020-10-28T08:35:37.644164",
     "exception": false,
     "start_time": "2020-10-28T08:35:37.554398",
     "status": "completed"
    },
    "tags": []
   },
   "source": [
    "# Averaging of 3  models to get best score "
   ]
  },
  {
   "cell_type": "markdown",
   "metadata": {
    "papermill": {
     "duration": 0.089486,
     "end_time": "2020-10-28T08:35:37.823385",
     "exception": false,
     "start_time": "2020-10-28T08:35:37.733899",
     "status": "completed"
    },
    "tags": []
   },
   "source": [
    "To decide weights by this way averaging oof is not totally correct, because on each test set point outcome is average of each fold model, but here we are using differnt fold outputs for different outcomes in oof set. "
   ]
  },
  {
   "cell_type": "code",
   "execution_count": 37,
   "metadata": {
    "execution": {
     "iopub.execute_input": "2020-10-28T08:35:38.012383Z",
     "iopub.status.busy": "2020-10-28T08:35:38.011588Z",
     "iopub.status.idle": "2020-10-28T08:35:38.020431Z",
     "shell.execute_reply": "2020-10-28T08:35:38.019541Z"
    },
    "papermill": {
     "duration": 0.107406,
     "end_time": "2020-10-28T08:35:38.020578",
     "exception": false,
     "start_time": "2020-10-28T08:35:37.913172",
     "status": "completed"
    },
    "tags": []
   },
   "outputs": [
    {
     "data": {
      "text/plain": [
       "0.2721597247520549"
      ]
     },
     "execution_count": 37,
     "metadata": {},
     "output_type": "execute_result"
    }
   ],
   "source": [
    "avg= 0.4*xgb_oofs +0.2* lgb_oofs + 0.4*cb_oofs\n",
    "np.sqrt(mean_squared_error(train[TARGET_COL], np.log1p(avg)))"
   ]
  },
  {
   "cell_type": "code",
   "execution_count": 38,
   "metadata": {
    "execution": {
     "iopub.execute_input": "2020-10-28T08:35:38.214029Z",
     "iopub.status.busy": "2020-10-28T08:35:38.213170Z",
     "iopub.status.idle": "2020-10-28T08:35:38.484733Z",
     "shell.execute_reply": "2020-10-28T08:35:38.484033Z"
    },
    "papermill": {
     "duration": 0.372644,
     "end_time": "2020-10-28T08:35:38.484862",
     "exception": false,
     "start_time": "2020-10-28T08:35:38.112218",
     "status": "completed"
    },
    "tags": []
   },
   "outputs": [],
   "source": [
    "#avg_test= 0.34*xgb_preds+ 0.33*lgb_preds+0.33*cb_preds\n",
    "avg_test= 0.4*xgb_preds+ 0.2*lgb_preds+0.4*cb_preds\n",
    "test['t2']=avg_test\n",
    "sample['TARGET(PRICE_IN_LACS)']=np.where(test['t1_dub'].isna()==True,test['t2'],test['t1_dub'])\n",
    "sample.to_csv('10_fold_3_424_equal_model_ensembeling.csv',index=False)"
   ]
  },
  {
   "cell_type": "markdown",
   "metadata": {
    "papermill": {
     "duration": 0.089914,
     "end_time": "2020-10-28T08:35:38.665727",
     "exception": false,
     "start_time": "2020-10-28T08:35:38.575813",
     "status": "completed"
    },
    "tags": []
   },
   "source": [
    "-------------------------------------------------\n",
    "### 0.2724 on oof , 0.2610 on public leaderboard, 0.26311 on private leaderboard\n",
    "### You can Secured Rank 7 in this competiotion by this solution \n",
    "-------------------------------------------------\n",
    "* may be using stacking will boost score bit more."
   ]
  },
  {
   "cell_type": "markdown",
   "metadata": {
    "papermill": {
     "duration": 0.090045,
     "end_time": "2020-10-28T08:35:38.846901",
     "exception": false,
     "start_time": "2020-10-28T08:35:38.756856",
     "status": "completed"
    },
    "tags": []
   },
   "source": [
    "* If you reach till here Hopefully you have learned or atleast reviced few concept, which may help you in your next upcoming competition\n",
    "### Don't forget to Upvote this Notebook and share your feedback in comment section\n",
    "* if i get positive responce, soon i will come up with few more notebooks and upgrade this one also with methods i mention in \"Things which may work\" section"
   ]
  },
  {
   "cell_type": "markdown",
   "metadata": {
    "papermill": {
     "duration": 0.092307,
     "end_time": "2020-10-28T08:35:39.029475",
     "exception": false,
     "start_time": "2020-10-28T08:35:38.937168",
     "status": "completed"
    },
    "tags": []
   },
   "source": [
    "## Special Thanks to few people for clearning my doubts and sharing insightful Notebooks\n",
    "### @NikhilMishra @gcspkmdr @Vetrivel-PS @Anil Betta @Piyush Raj Gupta"
   ]
  },
  {
   "cell_type": "code",
   "execution_count": null,
   "metadata": {
    "papermill": {
     "duration": 0.092337,
     "end_time": "2020-10-28T08:35:39.212754",
     "exception": false,
     "start_time": "2020-10-28T08:35:39.120417",
     "status": "completed"
    },
    "tags": []
   },
   "outputs": [],
   "source": []
  }
 ],
 "metadata": {
  "kernelspec": {
   "display_name": "Python 3",
   "language": "python",
   "name": "python3"
  },
  "language_info": {
   "codemirror_mode": {
    "name": "ipython",
    "version": 3
   },
   "file_extension": ".py",
   "mimetype": "text/x-python",
   "name": "python",
   "nbconvert_exporter": "python",
   "pygments_lexer": "ipython3",
   "version": "3.7.6"
  },
  "papermill": {
   "duration": 393.324437,
   "end_time": "2020-10-28T08:35:39.412540",
   "environment_variables": {},
   "exception": null,
   "input_path": "__notebook__.ipynb",
   "output_path": "__notebook__.ipynb",
   "parameters": {},
   "start_time": "2020-10-28T08:29:06.088103",
   "version": "2.1.0"
  }
 },
 "nbformat": 4,
 "nbformat_minor": 4
}
