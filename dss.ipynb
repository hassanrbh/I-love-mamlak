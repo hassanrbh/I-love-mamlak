{
 "metadata": {
  "language_info": {
   "codemirror_mode": {
    "name": "ipython",
    "version": 3
   },
   "file_extension": ".py",
   "mimetype": "text/x-python",
   "name": "python",
   "nbconvert_exporter": "python",
   "pygments_lexer": "ipython3",
   "version": "3.8.3-final"
  },
  "orig_nbformat": 2,
  "kernelspec": {
   "name": "python3",
   "display_name": "Python 3"
  }
 },
 "nbformat": 4,
 "nbformat_minor": 2,
 "cells": [
  {
   "cell_type": "code",
   "execution_count": 2,
   "metadata": {},
   "outputs": [],
   "source": [
    "import numpy as np\n",
    "import pandas as pd\n",
    "import matplotlib.pyplot as plt"
   ]
  },
  {
   "cell_type": "code",
   "execution_count": 3,
   "metadata": {},
   "outputs": [
    {
     "output_type": "execute_result",
     "data": {
      "text/plain": [
       "  0.799_0.201 0.799_0.201.1 0.700_0.300 0.700_0.300.1 0.600_0.400  \\\n",
       "0      -10,06        -10,62      -14,43        -18,31      -24,64   \n",
       "1       -9,69        -10,86      -16,73        -21,75      -28,47   \n",
       "2      -12,07        -14,28      -21,54        -27,92      -35,19   \n",
       "3      -14,21        -17,41      -25,91        -33,36      -41,29   \n",
       "4      -16,57        -20,35      -29,97        -37,84      -47,03   \n",
       "\n",
       "  0.600_0.400.1 0.501_0.499 0.501_0.499.1 0.400_0.600 0.400_0.600.1  \\\n",
       "0        -30,56      -38,62        -45,59      -54,89        -62,28   \n",
       "1        -35,83      -43,65        -52,43      -61,92        -71,27   \n",
       "2        -43,94      -52,04        -62,49      -71,97         -83,1   \n",
       "3        -51,27      -59,94        -71,55      -81,51        -93,83   \n",
       "4        -57,29      -67,13        -78,96      -90,01       -102,65   \n",
       "\n",
       "   1-Octanol  1-Propanol  2-Butanol  2-propanol  1-isobutanol  \n",
       "0          1           0          0           0             0  \n",
       "1          1           0          0           0             0  \n",
       "2          1           0          0           0             0  \n",
       "3          1           0          0           0             0  \n",
       "4          1           0          0           0             0  "
      ],
      "text/html": "<div>\n<style scoped>\n    .dataframe tbody tr th:only-of-type {\n        vertical-align: middle;\n    }\n\n    .dataframe tbody tr th {\n        vertical-align: top;\n    }\n\n    .dataframe thead th {\n        text-align: right;\n    }\n</style>\n<table border=\"1\" class=\"dataframe\">\n  <thead>\n    <tr style=\"text-align: right;\">\n      <th></th>\n      <th>0.799_0.201</th>\n      <th>0.799_0.201.1</th>\n      <th>0.700_0.300</th>\n      <th>0.700_0.300.1</th>\n      <th>0.600_0.400</th>\n      <th>0.600_0.400.1</th>\n      <th>0.501_0.499</th>\n      <th>0.501_0.499.1</th>\n      <th>0.400_0.600</th>\n      <th>0.400_0.600.1</th>\n      <th>1-Octanol</th>\n      <th>1-Propanol</th>\n      <th>2-Butanol</th>\n      <th>2-propanol</th>\n      <th>1-isobutanol</th>\n    </tr>\n  </thead>\n  <tbody>\n    <tr>\n      <th>0</th>\n      <td>-10,06</td>\n      <td>-10,62</td>\n      <td>-14,43</td>\n      <td>-18,31</td>\n      <td>-24,64</td>\n      <td>-30,56</td>\n      <td>-38,62</td>\n      <td>-45,59</td>\n      <td>-54,89</td>\n      <td>-62,28</td>\n      <td>1</td>\n      <td>0</td>\n      <td>0</td>\n      <td>0</td>\n      <td>0</td>\n    </tr>\n    <tr>\n      <th>1</th>\n      <td>-9,69</td>\n      <td>-10,86</td>\n      <td>-16,73</td>\n      <td>-21,75</td>\n      <td>-28,47</td>\n      <td>-35,83</td>\n      <td>-43,65</td>\n      <td>-52,43</td>\n      <td>-61,92</td>\n      <td>-71,27</td>\n      <td>1</td>\n      <td>0</td>\n      <td>0</td>\n      <td>0</td>\n      <td>0</td>\n    </tr>\n    <tr>\n      <th>2</th>\n      <td>-12,07</td>\n      <td>-14,28</td>\n      <td>-21,54</td>\n      <td>-27,92</td>\n      <td>-35,19</td>\n      <td>-43,94</td>\n      <td>-52,04</td>\n      <td>-62,49</td>\n      <td>-71,97</td>\n      <td>-83,1</td>\n      <td>1</td>\n      <td>0</td>\n      <td>0</td>\n      <td>0</td>\n      <td>0</td>\n    </tr>\n    <tr>\n      <th>3</th>\n      <td>-14,21</td>\n      <td>-17,41</td>\n      <td>-25,91</td>\n      <td>-33,36</td>\n      <td>-41,29</td>\n      <td>-51,27</td>\n      <td>-59,94</td>\n      <td>-71,55</td>\n      <td>-81,51</td>\n      <td>-93,83</td>\n      <td>1</td>\n      <td>0</td>\n      <td>0</td>\n      <td>0</td>\n      <td>0</td>\n    </tr>\n    <tr>\n      <th>4</th>\n      <td>-16,57</td>\n      <td>-20,35</td>\n      <td>-29,97</td>\n      <td>-37,84</td>\n      <td>-47,03</td>\n      <td>-57,29</td>\n      <td>-67,13</td>\n      <td>-78,96</td>\n      <td>-90,01</td>\n      <td>-102,65</td>\n      <td>1</td>\n      <td>0</td>\n      <td>0</td>\n      <td>0</td>\n      <td>0</td>\n    </tr>\n  </tbody>\n</table>\n</div>"
     },
     "metadata": {},
     "execution_count": 3
    }
   ],
   "source": [
    "df = pd.read_csv(r\"C:\\Users\\HP EliteDisk I5 4G\\Downloads\\I love mamlak\\QCM3.csv\")\n",
    "df.head()"
   ]
  },
  {
   "cell_type": "code",
   "execution_count": 10,
   "metadata": {},
   "outputs": [],
   "source": [
    "X = df.iloc[: , 0:10]\n",
    "y = df.iloc[: , 10:15]"
   ]
  },
  {
   "cell_type": "code",
   "execution_count": 16,
   "metadata": {},
   "outputs": [],
   "source": [
    "from sklearn.model_selection import train_test_split\n",
    "X_train , X_test ,y_train , y_test = train_test_split(X , y , test_size = 0.2)"
   ]
  },
  {
   "cell_type": "code",
   "execution_count": 65,
   "metadata": {},
   "outputs": [],
   "source": [
    "X_train[\"0.501_0.499\"] = X_train[\"0.501_0.499\"].replace(\",\",\".\").astype(float)\n",
    "X_train[\"0.501_0.499.1\"] = X_train[\"0.501_0.499.1\"].replace(\",\",\".\").astype(float)\n",
    "X_train[\"0.400_0.600\"] = X_train[\"0.400_0.600\"].replace(\",\",\".\").astype(float)\n",
    "X_train[\"0.501_0.499.1*\"] = X_train[\"0.501_0.499.1*\"].replace(\",\",\".\").astype(float)"
   ]
  },
  {
   "cell_type": "code",
   "execution_count": 95,
   "metadata": {},
   "outputs": [
    {
     "output_type": "execute_result",
     "data": {
      "text/plain": [
       "    0.799_0.201  0.799_0.201.1  0.700_0.300  0.700_0.300.1  0.600_0.400  \\\n",
       "22       -66.42         -72.72      -103.32        -112.74      -152.73   \n",
       "0        -10.06         -10.62       -14.43         -18.31       -24.64   \n",
       "10       -88.03         -76.88      -128.47        -124.36      -177.13   \n",
       "2        -12.07         -14.28       -21.54         -27.92       -35.19   \n",
       "16       -67.95         -76.82       -95.08        -105.21      -123.29   \n",
       "\n",
       "    0.600_0.400.1  0.501_0.499  0.501_0.499.1  0.400_0.600  0.400_0.600.1  \n",
       "22        -161.12      -215.40        -217.42      -269.84        -271.73  \n",
       "0          -30.56       -38.62         -45.59       -54.89         -62.28  \n",
       "10        -175.21      -220.91        -218.92      -274.27        -268.55  \n",
       "2          -43.94       -52.04         -62.49       -71.97         -83.10  \n",
       "16        -132.91      -146.27        -153.75      -176.94        -184.07  "
      ],
      "text/html": "<div>\n<style scoped>\n    .dataframe tbody tr th:only-of-type {\n        vertical-align: middle;\n    }\n\n    .dataframe tbody tr th {\n        vertical-align: top;\n    }\n\n    .dataframe thead th {\n        text-align: right;\n    }\n</style>\n<table border=\"1\" class=\"dataframe\">\n  <thead>\n    <tr style=\"text-align: right;\">\n      <th></th>\n      <th>0.799_0.201</th>\n      <th>0.799_0.201.1</th>\n      <th>0.700_0.300</th>\n      <th>0.700_0.300.1</th>\n      <th>0.600_0.400</th>\n      <th>0.600_0.400.1</th>\n      <th>0.501_0.499</th>\n      <th>0.501_0.499.1</th>\n      <th>0.400_0.600</th>\n      <th>0.400_0.600.1</th>\n    </tr>\n  </thead>\n  <tbody>\n    <tr>\n      <th>22</th>\n      <td>-66.42</td>\n      <td>-72.72</td>\n      <td>-103.32</td>\n      <td>-112.74</td>\n      <td>-152.73</td>\n      <td>-161.12</td>\n      <td>-215.40</td>\n      <td>-217.42</td>\n      <td>-269.84</td>\n      <td>-271.73</td>\n    </tr>\n    <tr>\n      <th>0</th>\n      <td>-10.06</td>\n      <td>-10.62</td>\n      <td>-14.43</td>\n      <td>-18.31</td>\n      <td>-24.64</td>\n      <td>-30.56</td>\n      <td>-38.62</td>\n      <td>-45.59</td>\n      <td>-54.89</td>\n      <td>-62.28</td>\n    </tr>\n    <tr>\n      <th>10</th>\n      <td>-88.03</td>\n      <td>-76.88</td>\n      <td>-128.47</td>\n      <td>-124.36</td>\n      <td>-177.13</td>\n      <td>-175.21</td>\n      <td>-220.91</td>\n      <td>-218.92</td>\n      <td>-274.27</td>\n      <td>-268.55</td>\n    </tr>\n    <tr>\n      <th>2</th>\n      <td>-12.07</td>\n      <td>-14.28</td>\n      <td>-21.54</td>\n      <td>-27.92</td>\n      <td>-35.19</td>\n      <td>-43.94</td>\n      <td>-52.04</td>\n      <td>-62.49</td>\n      <td>-71.97</td>\n      <td>-83.10</td>\n    </tr>\n    <tr>\n      <th>16</th>\n      <td>-67.95</td>\n      <td>-76.82</td>\n      <td>-95.08</td>\n      <td>-105.21</td>\n      <td>-123.29</td>\n      <td>-132.91</td>\n      <td>-146.27</td>\n      <td>-153.75</td>\n      <td>-176.94</td>\n      <td>-184.07</td>\n    </tr>\n  </tbody>\n</table>\n</div>"
     },
     "metadata": {},
     "execution_count": 95
    }
   ],
   "source": [
    "X_test[\"0.501_0.499\"] = X_test[\"0.501_0.499\"].str.replace(\",\",\".\").astype(float)\n",
    "X_test[\"0.501_0.499.1\"] = X_test[\"0.501_0.499.1\"].str.replace(\",\",\".\").astype(float)\n",
    "X_test[\"0.400_0.600\"] = X_test[\"0.400_0.600\"].str.replace(\",\",\".\").astype(float)\n",
    "X_test[\"0.400_0.600.1\"] = X_test[\"0.400_0.600.1\"].str.replace(\",\",\".\").astype(float)\n",
    "X_test"
   ]
  },
  {
   "cell_type": "code",
   "execution_count": 101,
   "metadata": {},
   "outputs": [
    {
     "output_type": "execute_result",
     "data": {
      "text/plain": [
       "array([[-4.87935811e-01, -8.86882169e-02, -7.08141248e-01,\n",
       "        -1.81839836e-01, -5.64738663e-01, -8.86882169e-02,\n",
       "        -3.85624121e-01,  1.28630054e-01, -2.50933164e-01,\n",
       "         2.30995169e-01, -2.01561454e-02,  1.28630054e-01],\n",
       "       [-8.28340291e-03, -4.06363199e-01, -1.24116010e-01,\n",
       "        -4.64303031e-01, -3.32422833e-01, -4.06363199e-01,\n",
       "        -7.28126770e-01, -9.58493675e-01, -7.89594741e-01,\n",
       "        -1.01671596e+00, -6.40779064e-01, -9.58493675e-01],\n",
       "       [-1.01633842e+00, -7.01753517e-01, -8.65433412e-01,\n",
       "        -8.84342418e-01, -9.28840928e-01, -7.01753517e-01,\n",
       "        -8.90559798e-01, -1.05410650e+00, -9.53095095e-01,\n",
       "        -1.06729885e+00, -1.06449949e+00, -1.05410650e+00],\n",
       "       [-1.07830902e+00, -7.90892169e-01, -9.28463846e-01,\n",
       "        -9.45819701e-01, -9.22082649e-01, -7.90892169e-01,\n",
       "        -7.67103643e-01, -9.26887774e-01, -6.84224439e-01,\n",
       "        -8.14384427e-01, -1.04439239e+00, -9.26887774e-01],\n",
       "       [ 3.79879749e-02, -3.33819509e-01,  1.41534556e-02,\n",
       "        -3.47330037e-01, -2.12040994e-01, -3.33819509e-01,\n",
       "        -6.10137959e-01, -8.71229584e-01, -8.90210343e-01,\n",
       "        -1.10102077e+00, -5.41469588e-01, -8.71229584e-01],\n",
       "       [-5.42883072e-01, -1.05757320e-01, -7.31706680e-01,\n",
       "        -1.68879760e-01, -5.07926883e-01, -1.05757320e-01,\n",
       "        -3.63931111e-01,  1.54670136e-01, -1.65655306e-01,\n",
       "         3.32160936e-01,  5.11995517e-02,  1.54670136e-01],\n",
       "       [ 2.15944802e+00,  2.23839956e+00,  2.12737652e+00,\n",
       "         2.19118331e+00,  2.05683988e+00,  2.23839956e+00,\n",
       "         2.01577448e+00,  1.92638961e+00,  1.97886809e+00,\n",
       "         1.84964745e+00,  2.06166471e+00,  1.92638961e+00],\n",
       "       [-3.77215014e-01,  2.46316646e-02, -6.03090524e-01,\n",
       "        -9.54393290e-02, -7.62629511e-01,  2.46316646e-02,\n",
       "        -7.13488398e-01, -1.75700981e-01, -6.18118761e-01,\n",
       "        -7.25021333e-02, -2.48935751e-01, -1.75700981e-01],\n",
       "       [-9.75210601e-02, -6.34425387e-01,  1.07847344e-01,\n",
       "        -2.68572652e-01,  2.11618602e-01, -6.34425387e-01,\n",
       "         3.78393118e-01,  1.71566372e-01,  3.76533952e-01,\n",
       "         1.97273246e-01, -6.89526530e-02,  1.71566372e-01],\n",
       "       [ 4.11071616e-03, -4.90760433e-01,  2.01257311e-01,\n",
       "        -1.44953466e-01,  5.00957408e-01, -4.90760433e-01,\n",
       "         6.18250792e-01,  4.22227009e-01,  6.13655477e-01,\n",
       "         4.16465742e-01,  2.72622900e-01,  4.22227009e-01],\n",
       "       [-4.04895213e-01,  4.24356879e-03, -6.40568080e-01,\n",
       "        -1.25014887e-01, -7.61573530e-01,  4.24356879e-03,\n",
       "        -5.73453844e-01, -4.41091160e-02, -4.54158275e-01,\n",
       "         4.55245953e-02, -2.36184905e-01, -4.41091160e-02],\n",
       "       [-4.32988549e-01, -3.55843394e-02, -6.71799376e-01,\n",
       "        -1.51931968e-01, -6.59988153e-01, -3.55843394e-02,\n",
       "        -4.70103405e-01,  5.13049249e-02, -3.41885988e-01,\n",
       "         1.46690363e-01, -1.27802712e-01,  5.13049249e-02],\n",
       "       [-1.10764176e+00, -8.18392391e-01, -9.40388522e-01,\n",
       "        -9.43161224e-01, -8.36548184e-01, -8.18392391e-01,\n",
       "        -6.63400472e-01, -8.19745757e-01, -5.76706852e-01,\n",
       "        -7.13218660e-01, -9.37726655e-01, -8.19745757e-01],\n",
       "       [ 2.34618608e+00,  2.54896242e+00,  2.38801588e+00,\n",
       "         2.57699481e+00,  2.32759342e+00,  2.54896242e+00,\n",
       "         2.30307459e+00,  2.30645554e+00,  2.27933450e+00,\n",
       "         2.22058859e+00,  2.44026676e+00,  2.30645554e+00],\n",
       "       [-1.05765215e+00, -7.55805679e-01, -8.98936075e-01,\n",
       "        -9.20231859e-01, -9.42991074e-01, -7.55805679e-01,\n",
       "        -8.52993854e-01, -1.01494698e+00, -8.32540425e-01,\n",
       "        -9.49272117e-01, -1.07651471e+00, -1.01494698e+00],\n",
       "       [ 1.48522860e-02, -4.56622226e-01,  2.19996089e-01,\n",
       "        -1.06405547e-01,  5.68117802e-01, -4.56622226e-01,\n",
       "         6.59696787e-01,  4.65958445e-01,  6.51539706e-01,\n",
       "         4.67048626e-01,  3.53051315e-01,  4.65958445e-01],\n",
       "       [ 2.18756201e-02, -3.58000739e-01, -2.78668338e-02,\n",
       "        -4.01164199e-01, -2.61038514e-01, -3.58000739e-01,\n",
       "        -6.63576838e-01, -9.22117072e-01, -9.06314975e-01,\n",
       "        -1.13474269e+00, -5.94434642e-01, -9.22117072e-01],\n",
       "       [ 2.06194762e+00,  2.09900188e+00,  2.01210465e+00,\n",
       "         2.04230859e+00,  1.93561326e+00,  2.09900188e+00,\n",
       "         1.88896737e+00,  1.77909418e+00,  1.84849726e+00,\n",
       "         1.69789880e+00,  1.91404914e+00,  1.77909418e+00],\n",
       "       [-3.34847783e-02, -5.39122893e-01,  1.72865224e-01,\n",
       "        -1.81839836e-01,  4.21970026e-01, -5.39122893e-01,\n",
       "         5.63048254e-01,  3.65574922e-01,  5.83133366e-01,\n",
       "         3.82743820e-01,  1.73068216e-01,  3.65574922e-01],\n",
       "       [-1.26006877e-03, -3.99251072e-01, -1.03105865e-01,\n",
       "        -4.79256965e-01, -3.29888479e-01, -3.99251072e-01,\n",
       "        -7.44705169e-01, -9.84533757e-01, -8.68123992e-01,\n",
       "        -1.11788173e+00, -6.64073879e-01, -9.84533757e-01]])"
      ]
     },
     "metadata": {},
     "execution_count": 101
    }
   ],
   "source": []
  },
  {
   "cell_type": "code",
   "execution_count": 102,
   "metadata": {},
   "outputs": [
    {
     "output_type": "error",
     "ename": "ValueError",
     "evalue": "X has 10 features, but this StandardScaler is expecting 12 features as input.",
     "traceback": [
      "\u001b[1;31m---------------------------------------------------------------------------\u001b[0m",
      "\u001b[1;31mValueError\u001b[0m                                Traceback (most recent call last)",
      "\u001b[1;32m<ipython-input-102-b0a3eecfdb89>\u001b[0m in \u001b[0;36m<module>\u001b[1;34m\u001b[0m\n\u001b[0;32m      4\u001b[0m \u001b[0mscaler\u001b[0m\u001b[1;33m.\u001b[0m\u001b[0mfit\u001b[0m\u001b[1;33m(\u001b[0m\u001b[0mX_train\u001b[0m\u001b[1;33m)\u001b[0m\u001b[1;33m\u001b[0m\u001b[1;33m\u001b[0m\u001b[0m\n\u001b[0;32m      5\u001b[0m \u001b[0mX_train\u001b[0m \u001b[1;33m=\u001b[0m \u001b[0mscaler\u001b[0m\u001b[1;33m.\u001b[0m\u001b[0mtransform\u001b[0m\u001b[1;33m(\u001b[0m\u001b[0mX_train\u001b[0m\u001b[1;33m)\u001b[0m\u001b[1;33m\u001b[0m\u001b[1;33m\u001b[0m\u001b[0m\n\u001b[1;32m----> 6\u001b[1;33m \u001b[0mX_test\u001b[0m \u001b[1;33m=\u001b[0m \u001b[0mscaler\u001b[0m\u001b[1;33m.\u001b[0m\u001b[0mtransform\u001b[0m\u001b[1;33m(\u001b[0m\u001b[0mX_test\u001b[0m\u001b[1;33m)\u001b[0m\u001b[1;33m\u001b[0m\u001b[1;33m\u001b[0m\u001b[0m\n\u001b[0m",
      "\u001b[1;32m~\\anaconda3\\lib\\site-packages\\sklearn\\preprocessing\\_data.py\u001b[0m in \u001b[0;36mtransform\u001b[1;34m(self, X, copy)\u001b[0m\n\u001b[0;32m    789\u001b[0m \u001b[1;33m\u001b[0m\u001b[0m\n\u001b[0;32m    790\u001b[0m         \u001b[0mcopy\u001b[0m \u001b[1;33m=\u001b[0m \u001b[0mcopy\u001b[0m \u001b[1;32mif\u001b[0m \u001b[0mcopy\u001b[0m \u001b[1;32mis\u001b[0m \u001b[1;32mnot\u001b[0m \u001b[1;32mNone\u001b[0m \u001b[1;32melse\u001b[0m \u001b[0mself\u001b[0m\u001b[1;33m.\u001b[0m\u001b[0mcopy\u001b[0m\u001b[1;33m\u001b[0m\u001b[1;33m\u001b[0m\u001b[0m\n\u001b[1;32m--> 791\u001b[1;33m         X = self._validate_data(X, reset=False,\n\u001b[0m\u001b[0;32m    792\u001b[0m                                 \u001b[0maccept_sparse\u001b[0m\u001b[1;33m=\u001b[0m\u001b[1;34m'csr'\u001b[0m\u001b[1;33m,\u001b[0m \u001b[0mcopy\u001b[0m\u001b[1;33m=\u001b[0m\u001b[0mcopy\u001b[0m\u001b[1;33m,\u001b[0m\u001b[1;33m\u001b[0m\u001b[1;33m\u001b[0m\u001b[0m\n\u001b[0;32m    793\u001b[0m                                 \u001b[0mestimator\u001b[0m\u001b[1;33m=\u001b[0m\u001b[0mself\u001b[0m\u001b[1;33m,\u001b[0m \u001b[0mdtype\u001b[0m\u001b[1;33m=\u001b[0m\u001b[0mFLOAT_DTYPES\u001b[0m\u001b[1;33m,\u001b[0m\u001b[1;33m\u001b[0m\u001b[1;33m\u001b[0m\u001b[0m\n",
      "\u001b[1;32m~\\anaconda3\\lib\\site-packages\\sklearn\\base.py\u001b[0m in \u001b[0;36m_validate_data\u001b[1;34m(self, X, y, reset, validate_separately, **check_params)\u001b[0m\n\u001b[0;32m    434\u001b[0m \u001b[1;33m\u001b[0m\u001b[0m\n\u001b[0;32m    435\u001b[0m         \u001b[1;32mif\u001b[0m \u001b[0mcheck_params\u001b[0m\u001b[1;33m.\u001b[0m\u001b[0mget\u001b[0m\u001b[1;33m(\u001b[0m\u001b[1;34m'ensure_2d'\u001b[0m\u001b[1;33m,\u001b[0m \u001b[1;32mTrue\u001b[0m\u001b[1;33m)\u001b[0m\u001b[1;33m:\u001b[0m\u001b[1;33m\u001b[0m\u001b[1;33m\u001b[0m\u001b[0m\n\u001b[1;32m--> 436\u001b[1;33m             \u001b[0mself\u001b[0m\u001b[1;33m.\u001b[0m\u001b[0m_check_n_features\u001b[0m\u001b[1;33m(\u001b[0m\u001b[0mX\u001b[0m\u001b[1;33m,\u001b[0m \u001b[0mreset\u001b[0m\u001b[1;33m=\u001b[0m\u001b[0mreset\u001b[0m\u001b[1;33m)\u001b[0m\u001b[1;33m\u001b[0m\u001b[1;33m\u001b[0m\u001b[0m\n\u001b[0m\u001b[0;32m    437\u001b[0m \u001b[1;33m\u001b[0m\u001b[0m\n\u001b[0;32m    438\u001b[0m         \u001b[1;32mreturn\u001b[0m \u001b[0mout\u001b[0m\u001b[1;33m\u001b[0m\u001b[1;33m\u001b[0m\u001b[0m\n",
      "\u001b[1;32m~\\anaconda3\\lib\\site-packages\\sklearn\\base.py\u001b[0m in \u001b[0;36m_check_n_features\u001b[1;34m(self, X, reset)\u001b[0m\n\u001b[0;32m    375\u001b[0m                 )\n\u001b[0;32m    376\u001b[0m             \u001b[1;32mif\u001b[0m \u001b[0mn_features\u001b[0m \u001b[1;33m!=\u001b[0m \u001b[0mself\u001b[0m\u001b[1;33m.\u001b[0m\u001b[0mn_features_in_\u001b[0m\u001b[1;33m:\u001b[0m\u001b[1;33m\u001b[0m\u001b[1;33m\u001b[0m\u001b[0m\n\u001b[1;32m--> 377\u001b[1;33m                 raise ValueError(\n\u001b[0m\u001b[0;32m    378\u001b[0m                     \u001b[1;34m'X has {} features, but this {} is expecting {} features '\u001b[0m\u001b[1;33m\u001b[0m\u001b[1;33m\u001b[0m\u001b[0m\n\u001b[0;32m    379\u001b[0m                     'as input.'.format(n_features, self.__class__.__name__,\n",
      "\u001b[1;31mValueError\u001b[0m: X has 10 features, but this StandardScaler is expecting 12 features as input."
     ]
    }
   ],
   "source": [
    "# Feature Scalling :\n",
    "from sklearn.preprocessing import StandardScaler\n",
    "scaler = StandardScaler()\n",
    "scaler.fit(X_train)\n",
    "X_train = scaler.transform(X_train)\n",
    "X_test = scaler.transform(X_test)"
   ]
  },
  {
   "cell_type": "code",
   "execution_count": 106,
   "metadata": {},
   "outputs": [
    {
     "output_type": "execute_result",
     "data": {
      "text/plain": [
       "KNeighborsClassifier()"
      ]
     },
     "metadata": {},
     "execution_count": 106
    }
   ],
   "source": [
    "# Trainging And Modeling the Model :\n",
    "from sklearn.neighbors import KNeighborsClassifier\n",
    "classifier = KNeighborsClassifier(n_neighbors = 5)\n",
    "classifier.fit(X_train , y_train)"
   ]
  },
  {
   "cell_type": "code",
   "execution_count": 109,
   "metadata": {},
   "outputs": [
    {
     "output_type": "execute_result",
     "data": {
      "text/plain": [
       "    0.799_0.201  0.799_0.201.1  0.700_0.300  0.700_0.300.1  0.600_0.400  \\\n",
       "22       -66.42         -72.72      -103.32        -112.74      -152.73   \n",
       "0        -10.06         -10.62       -14.43         -18.31       -24.64   \n",
       "10       -88.03         -76.88      -128.47        -124.36      -177.13   \n",
       "2        -12.07         -14.28       -21.54         -27.92       -35.19   \n",
       "16       -67.95         -76.82       -95.08        -105.21      -123.29   \n",
       "\n",
       "    0.600_0.400.1  0.501_0.499  0.501_0.499.1  0.400_0.600  0.400_0.600.1  \n",
       "22        -161.12      -215.40        -217.42      -269.84        -271.73  \n",
       "0          -30.56       -38.62         -45.59       -54.89         -62.28  \n",
       "10        -175.21      -220.91        -218.92      -274.27        -268.55  \n",
       "2          -43.94       -52.04         -62.49       -71.97         -83.10  \n",
       "16        -132.91      -146.27        -153.75      -176.94        -184.07  "
      ],
      "text/html": "<div>\n<style scoped>\n    .dataframe tbody tr th:only-of-type {\n        vertical-align: middle;\n    }\n\n    .dataframe tbody tr th {\n        vertical-align: top;\n    }\n\n    .dataframe thead th {\n        text-align: right;\n    }\n</style>\n<table border=\"1\" class=\"dataframe\">\n  <thead>\n    <tr style=\"text-align: right;\">\n      <th></th>\n      <th>0.799_0.201</th>\n      <th>0.799_0.201.1</th>\n      <th>0.700_0.300</th>\n      <th>0.700_0.300.1</th>\n      <th>0.600_0.400</th>\n      <th>0.600_0.400.1</th>\n      <th>0.501_0.499</th>\n      <th>0.501_0.499.1</th>\n      <th>0.400_0.600</th>\n      <th>0.400_0.600.1</th>\n    </tr>\n  </thead>\n  <tbody>\n    <tr>\n      <th>22</th>\n      <td>-66.42</td>\n      <td>-72.72</td>\n      <td>-103.32</td>\n      <td>-112.74</td>\n      <td>-152.73</td>\n      <td>-161.12</td>\n      <td>-215.40</td>\n      <td>-217.42</td>\n      <td>-269.84</td>\n      <td>-271.73</td>\n    </tr>\n    <tr>\n      <th>0</th>\n      <td>-10.06</td>\n      <td>-10.62</td>\n      <td>-14.43</td>\n      <td>-18.31</td>\n      <td>-24.64</td>\n      <td>-30.56</td>\n      <td>-38.62</td>\n      <td>-45.59</td>\n      <td>-54.89</td>\n      <td>-62.28</td>\n    </tr>\n    <tr>\n      <th>10</th>\n      <td>-88.03</td>\n      <td>-76.88</td>\n      <td>-128.47</td>\n      <td>-124.36</td>\n      <td>-177.13</td>\n      <td>-175.21</td>\n      <td>-220.91</td>\n      <td>-218.92</td>\n      <td>-274.27</td>\n      <td>-268.55</td>\n    </tr>\n    <tr>\n      <th>2</th>\n      <td>-12.07</td>\n      <td>-14.28</td>\n      <td>-21.54</td>\n      <td>-27.92</td>\n      <td>-35.19</td>\n      <td>-43.94</td>\n      <td>-52.04</td>\n      <td>-62.49</td>\n      <td>-71.97</td>\n      <td>-83.10</td>\n    </tr>\n    <tr>\n      <th>16</th>\n      <td>-67.95</td>\n      <td>-76.82</td>\n      <td>-95.08</td>\n      <td>-105.21</td>\n      <td>-123.29</td>\n      <td>-132.91</td>\n      <td>-146.27</td>\n      <td>-153.75</td>\n      <td>-176.94</td>\n      <td>-184.07</td>\n    </tr>\n  </tbody>\n</table>\n</div>"
     },
     "metadata": {},
     "execution_count": 109
    }
   ],
   "source": [
    "X_test"
   ]
  },
  {
   "cell_type": "code",
   "execution_count": null,
   "metadata": {},
   "outputs": [],
   "source": []
  }
 ]
}